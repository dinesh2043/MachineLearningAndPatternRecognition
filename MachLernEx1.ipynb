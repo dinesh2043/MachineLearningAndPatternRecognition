{
 "cells": [
  {
   "cell_type": "code",
   "execution_count": 1,
   "metadata": {
    "collapsed": true
   },
   "outputs": [],
   "source": [
    "import numpy as np\n",
    "import gzip\n",
    "import struct"
   ]
  },
  {
   "cell_type": "code",
   "execution_count": 2,
   "metadata": {
    "collapsed": true
   },
   "outputs": [],
   "source": [
    "def read_data(label, image):\n",
    "    with gzip.open(label, 'rb') as flbl:\n",
    "        magic, num = struct.unpack(\">II\", flbl.read(8))\n",
    "        label = np.fromstring(flbl.read(), dtype=np.int8)\n",
    "    with gzip.open(image, 'rb') as fimg:\n",
    "        magic, num, rows, cols = struct.unpack(\">IIII\", fimg.read(16))\n",
    "        image = np.fromstring(fimg.read(), dtype=np.uint8).reshape(len(label), rows, cols)\n",
    "    return (label, image)"
   ]
  },
  {
   "cell_type": "code",
   "execution_count": 3,
   "metadata": {
    "collapsed": true
   },
   "outputs": [],
   "source": [
    "(train_lbl, train_img) = read_data(r'C:\\Users\\dinesh\\Documents\\exercise1\\Dataset\\train-labels-idx1-ubyte.gz', \n",
    "                                   r'C:\\Users\\dinesh\\Documents\\exercise1\\Dataset\\train-images-idx3-ubyte.gz')\n",
    "(test_lbl, test_img) = read_data(r'C:\\Users\\dinesh\\Documents\\exercise1\\Dataset\\t10k-labels-idx1-ubyte.gz', \n",
    "                                   r'C:\\Users\\dinesh\\Documents\\exercise1\\Dataset\\t10k-images-idx3-ubyte.gz')"
   ]
  },
  {
   "cell_type": "code",
   "execution_count": 4,
   "metadata": {
    "collapsed": false
   },
   "outputs": [
    {
     "name": "stdout",
     "output_type": "stream",
     "text": [
      "[[[0 0 0 ..., 0 0 0]\n",
      "  [0 0 0 ..., 0 0 0]\n",
      "  [0 0 0 ..., 0 0 0]\n",
      "  ..., \n",
      "  [0 0 0 ..., 0 0 0]\n",
      "  [0 0 0 ..., 0 0 0]\n",
      "  [0 0 0 ..., 0 0 0]]\n",
      "\n",
      " [[0 0 0 ..., 0 0 0]\n",
      "  [0 0 0 ..., 0 0 0]\n",
      "  [0 0 0 ..., 0 0 0]\n",
      "  ..., \n",
      "  [0 0 0 ..., 0 0 0]\n",
      "  [0 0 0 ..., 0 0 0]\n",
      "  [0 0 0 ..., 0 0 0]]\n",
      "\n",
      " [[0 0 0 ..., 0 0 0]\n",
      "  [0 0 0 ..., 0 0 0]\n",
      "  [0 0 0 ..., 0 0 0]\n",
      "  ..., \n",
      "  [0 0 0 ..., 0 0 0]\n",
      "  [0 0 0 ..., 0 0 0]\n",
      "  [0 0 0 ..., 0 0 0]]\n",
      "\n",
      " ..., \n",
      " [[0 0 0 ..., 0 0 0]\n",
      "  [0 0 0 ..., 0 0 0]\n",
      "  [0 0 0 ..., 0 0 0]\n",
      "  ..., \n",
      "  [0 0 0 ..., 0 0 0]\n",
      "  [0 0 0 ..., 0 0 0]\n",
      "  [0 0 0 ..., 0 0 0]]\n",
      "\n",
      " [[0 0 0 ..., 0 0 0]\n",
      "  [0 0 0 ..., 0 0 0]\n",
      "  [0 0 0 ..., 0 0 0]\n",
      "  ..., \n",
      "  [0 0 0 ..., 0 0 0]\n",
      "  [0 0 0 ..., 0 0 0]\n",
      "  [0 0 0 ..., 0 0 0]]\n",
      "\n",
      " [[0 0 0 ..., 0 0 0]\n",
      "  [0 0 0 ..., 0 0 0]\n",
      "  [0 0 0 ..., 0 0 0]\n",
      "  ..., \n",
      "  [0 0 0 ..., 0 0 0]\n",
      "  [0 0 0 ..., 0 0 0]\n",
      "  [0 0 0 ..., 0 0 0]]]\n",
      "60000\n"
     ]
    }
   ],
   "source": [
    "print(train_img)\n",
    "print(len(train_img))"
   ]
  },
  {
   "cell_type": "code",
   "execution_count": 5,
   "metadata": {
    "collapsed": false
   },
   "outputs": [
    {
     "data": {
      "text/plain": [
       "array([[  0,   0,   0,   0,   0,   0,   0,   0,   0,   0,   0,   0,   0,\n",
       "          0,   0,   0,   0,   0,   0,   0,   0,   0,   0,   0,   0,   0,\n",
       "          0,   0],\n",
       "       [  0,   0,   0,   0,   0,   0,   0,   0,   0,   0,   0,   0,   0,\n",
       "          0,   0,   0,   0,   0,   0,   0,   0,   0,   0,   0,   0,   0,\n",
       "          0,   0],\n",
       "       [  0,   0,   0,   0,   0,   0,   0,   0,   0,   0,   0,   0,   0,\n",
       "          0,   0,   0,   0,   0,   0,   0,   0,   0,   0,   0,   0,   0,\n",
       "          0,   0],\n",
       "       [  0,   0,   0,   0,   0,   0,   0,   0,   0,   0,   0,   0,   0,\n",
       "          0,   0,   0,   0,   0,   0,   0,   0,   0,   0,   0,   0,   0,\n",
       "          0,   0],\n",
       "       [  0,   0,   0,   0,   0,   0,   0,   0,   0,   0,   0,   0,   0,\n",
       "          0,   0,   0,   0,   0,   0,   0,   0,   0,   0,   0,   0,   0,\n",
       "          0,   0],\n",
       "       [  0,   0,   0,   0,   0,   0,   0,   0,   0,   0,   0,   0,   3,\n",
       "         18,  18,  18, 126, 136, 175,  26, 166, 255, 247, 127,   0,   0,\n",
       "          0,   0],\n",
       "       [  0,   0,   0,   0,   0,   0,   0,   0,  30,  36,  94, 154, 170,\n",
       "        253, 253, 253, 253, 253, 225, 172, 253, 242, 195,  64,   0,   0,\n",
       "          0,   0],\n",
       "       [  0,   0,   0,   0,   0,   0,   0,  49, 238, 253, 253, 253, 253,\n",
       "        253, 253, 253, 253, 251,  93,  82,  82,  56,  39,   0,   0,   0,\n",
       "          0,   0],\n",
       "       [  0,   0,   0,   0,   0,   0,   0,  18, 219, 253, 253, 253, 253,\n",
       "        253, 198, 182, 247, 241,   0,   0,   0,   0,   0,   0,   0,   0,\n",
       "          0,   0],\n",
       "       [  0,   0,   0,   0,   0,   0,   0,   0,  80, 156, 107, 253, 253,\n",
       "        205,  11,   0,  43, 154,   0,   0,   0,   0,   0,   0,   0,   0,\n",
       "          0,   0],\n",
       "       [  0,   0,   0,   0,   0,   0,   0,   0,   0,  14,   1, 154, 253,\n",
       "         90,   0,   0,   0,   0,   0,   0,   0,   0,   0,   0,   0,   0,\n",
       "          0,   0],\n",
       "       [  0,   0,   0,   0,   0,   0,   0,   0,   0,   0,   0, 139, 253,\n",
       "        190,   2,   0,   0,   0,   0,   0,   0,   0,   0,   0,   0,   0,\n",
       "          0,   0],\n",
       "       [  0,   0,   0,   0,   0,   0,   0,   0,   0,   0,   0,  11, 190,\n",
       "        253,  70,   0,   0,   0,   0,   0,   0,   0,   0,   0,   0,   0,\n",
       "          0,   0],\n",
       "       [  0,   0,   0,   0,   0,   0,   0,   0,   0,   0,   0,   0,  35,\n",
       "        241, 225, 160, 108,   1,   0,   0,   0,   0,   0,   0,   0,   0,\n",
       "          0,   0],\n",
       "       [  0,   0,   0,   0,   0,   0,   0,   0,   0,   0,   0,   0,   0,\n",
       "         81, 240, 253, 253, 119,  25,   0,   0,   0,   0,   0,   0,   0,\n",
       "          0,   0],\n",
       "       [  0,   0,   0,   0,   0,   0,   0,   0,   0,   0,   0,   0,   0,\n",
       "          0,  45, 186, 253, 253, 150,  27,   0,   0,   0,   0,   0,   0,\n",
       "          0,   0],\n",
       "       [  0,   0,   0,   0,   0,   0,   0,   0,   0,   0,   0,   0,   0,\n",
       "          0,   0,  16,  93, 252, 253, 187,   0,   0,   0,   0,   0,   0,\n",
       "          0,   0],\n",
       "       [  0,   0,   0,   0,   0,   0,   0,   0,   0,   0,   0,   0,   0,\n",
       "          0,   0,   0,   0, 249, 253, 249,  64,   0,   0,   0,   0,   0,\n",
       "          0,   0],\n",
       "       [  0,   0,   0,   0,   0,   0,   0,   0,   0,   0,   0,   0,   0,\n",
       "          0,  46, 130, 183, 253, 253, 207,   2,   0,   0,   0,   0,   0,\n",
       "          0,   0],\n",
       "       [  0,   0,   0,   0,   0,   0,   0,   0,   0,   0,   0,   0,  39,\n",
       "        148, 229, 253, 253, 253, 250, 182,   0,   0,   0,   0,   0,   0,\n",
       "          0,   0],\n",
       "       [  0,   0,   0,   0,   0,   0,   0,   0,   0,   0,  24, 114, 221,\n",
       "        253, 253, 253, 253, 201,  78,   0,   0,   0,   0,   0,   0,   0,\n",
       "          0,   0],\n",
       "       [  0,   0,   0,   0,   0,   0,   0,   0,  23,  66, 213, 253, 253,\n",
       "        253, 253, 198,  81,   2,   0,   0,   0,   0,   0,   0,   0,   0,\n",
       "          0,   0],\n",
       "       [  0,   0,   0,   0,   0,   0,  18, 171, 219, 253, 253, 253, 253,\n",
       "        195,  80,   9,   0,   0,   0,   0,   0,   0,   0,   0,   0,   0,\n",
       "          0,   0],\n",
       "       [  0,   0,   0,   0,  55, 172, 226, 253, 253, 253, 253, 244, 133,\n",
       "         11,   0,   0,   0,   0,   0,   0,   0,   0,   0,   0,   0,   0,\n",
       "          0,   0],\n",
       "       [  0,   0,   0,   0, 136, 253, 253, 253, 212, 135, 132,  16,   0,\n",
       "          0,   0,   0,   0,   0,   0,   0,   0,   0,   0,   0,   0,   0,\n",
       "          0,   0],\n",
       "       [  0,   0,   0,   0,   0,   0,   0,   0,   0,   0,   0,   0,   0,\n",
       "          0,   0,   0,   0,   0,   0,   0,   0,   0,   0,   0,   0,   0,\n",
       "          0,   0],\n",
       "       [  0,   0,   0,   0,   0,   0,   0,   0,   0,   0,   0,   0,   0,\n",
       "          0,   0,   0,   0,   0,   0,   0,   0,   0,   0,   0,   0,   0,\n",
       "          0,   0],\n",
       "       [  0,   0,   0,   0,   0,   0,   0,   0,   0,   0,   0,   0,   0,\n",
       "          0,   0,   0,   0,   0,   0,   0,   0,   0,   0,   0,   0,   0,\n",
       "          0,   0]], dtype=uint8)"
      ]
     },
     "execution_count": 5,
     "metadata": {},
     "output_type": "execute_result"
    }
   ],
   "source": [
    "train_img[0]"
   ]
  },
  {
   "cell_type": "code",
   "execution_count": 6,
   "metadata": {
    "collapsed": false
   },
   "outputs": [
    {
     "data": {
      "text/plain": [
       "(28, 28)"
      ]
     },
     "execution_count": 6,
     "metadata": {},
     "output_type": "execute_result"
    }
   ],
   "source": [
    "\n",
    "train_img[0].shape\n"
   ]
  },
  {
   "cell_type": "code",
   "execution_count": null,
   "metadata": {
    "collapsed": false
   },
   "outputs": [],
   "source": []
  },
  {
   "cell_type": "code",
   "execution_count": null,
   "metadata": {
    "collapsed": false
   },
   "outputs": [],
   "source": []
  },
  {
   "cell_type": "code",
   "execution_count": 7,
   "metadata": {
    "collapsed": false
   },
   "outputs": [
    {
     "name": "stdout",
     "output_type": "stream",
     "text": [
      "[[[0 0 0 ..., 0 0 0]\n",
      "  [0 0 0 ..., 0 0 0]\n",
      "  [0 0 0 ..., 0 0 0]\n",
      "  ..., \n",
      "  [0 0 0 ..., 0 0 0]\n",
      "  [0 0 0 ..., 0 0 0]\n",
      "  [0 0 0 ..., 0 0 0]]\n",
      "\n",
      " [[0 0 0 ..., 0 0 0]\n",
      "  [0 0 0 ..., 0 0 0]\n",
      "  [0 0 0 ..., 0 0 0]\n",
      "  ..., \n",
      "  [0 0 0 ..., 0 0 0]\n",
      "  [0 0 0 ..., 0 0 0]\n",
      "  [0 0 0 ..., 0 0 0]]\n",
      "\n",
      " [[0 0 0 ..., 0 0 0]\n",
      "  [0 0 0 ..., 0 0 0]\n",
      "  [0 0 0 ..., 0 0 0]\n",
      "  ..., \n",
      "  [0 0 0 ..., 0 0 0]\n",
      "  [0 0 0 ..., 0 0 0]\n",
      "  [0 0 0 ..., 0 0 0]]\n",
      "\n",
      " ..., \n",
      " [[0 0 0 ..., 0 0 0]\n",
      "  [0 0 0 ..., 0 0 0]\n",
      "  [0 0 0 ..., 0 0 0]\n",
      "  ..., \n",
      "  [0 0 0 ..., 0 0 0]\n",
      "  [0 0 0 ..., 0 0 0]\n",
      "  [0 0 0 ..., 0 0 0]]\n",
      "\n",
      " [[0 0 0 ..., 0 0 0]\n",
      "  [0 0 0 ..., 0 0 0]\n",
      "  [0 0 0 ..., 0 0 0]\n",
      "  ..., \n",
      "  [0 0 0 ..., 0 0 0]\n",
      "  [0 0 0 ..., 0 0 0]\n",
      "  [0 0 0 ..., 0 0 0]]\n",
      "\n",
      " [[0 0 0 ..., 0 0 0]\n",
      "  [0 0 0 ..., 0 0 0]\n",
      "  [0 0 0 ..., 0 0 0]\n",
      "  ..., \n",
      "  [0 0 0 ..., 0 0 0]\n",
      "  [0 0 0 ..., 0 0 0]\n",
      "  [0 0 0 ..., 0 0 0]]]\n"
     ]
    }
   ],
   "source": [
    "print(test_img)"
   ]
  },
  {
   "cell_type": "code",
   "execution_count": 8,
   "metadata": {
    "collapsed": false
   },
   "outputs": [
    {
     "name": "stdout",
     "output_type": "stream",
     "text": [
      "[5 0 4 ..., 5 6 8]\n"
     ]
    }
   ],
   "source": [
    "print(train_lbl)"
   ]
  },
  {
   "cell_type": "code",
   "execution_count": 9,
   "metadata": {
    "collapsed": false
   },
   "outputs": [
    {
     "name": "stdout",
     "output_type": "stream",
     "text": [
      "[7 2 1 ..., 4 5 6]\n"
     ]
    }
   ],
   "source": [
    "print(test_lbl)"
   ]
  },
  {
   "cell_type": "code",
   "execution_count": 10,
   "metadata": {
    "collapsed": false
   },
   "outputs": [
    {
     "data": {
      "image/png": "[encoded data removed]",
      "text/plain": [
       "<matplotlib.figure.Figure at 0x2334b58ad30>"
      ]
     },
     "metadata": {},
     "output_type": "display_data"
    },
    {
     "name": "stdout",
     "output_type": "stream",
     "text": [
      "label: [5 0 4 1 9 2 1 3 1 4]\n",
      "label: [3 5 3 6 1 7 2 8 6 9]\n"
     ]
    }
   ],
   "source": [
    "%matplotlib inline\n",
    "import matplotlib.pyplot as plt\n",
    "for i in range(20):\n",
    "    plt.subplot(2,10,i+1)\n",
    "    plt.imshow(train_img[i], cmap='Greys_r')\n",
    "    plt.axis('off')\n",
    "plt.show()\n",
    "print('label: %s' % (train_lbl[0:10],))\n",
    "print('label: %s' % (train_lbl[10:20],))"
   ]
  },
  {
   "cell_type": "code",
   "execution_count": 11,
   "metadata": {
    "collapsed": false
   },
   "outputs": [
    {
     "data": {
      "image/png": "[encoded data removed]",
      "text/plain": [
       "<matplotlib.figure.Figure at 0x233473136d8>"
      ]
     },
     "metadata": {},
     "output_type": "display_data"
    },
    {
     "name": "stdout",
     "output_type": "stream",
     "text": [
      "label: [7 2 1 0 4 1 4 9 5 9]\n",
      "label: [0 6 9 0 1 5 9 7 3 4]\n"
     ]
    }
   ],
   "source": [
    "for i in range(20):\n",
    "    plt.subplot(2,10,i+1)\n",
    "    plt.imshow(test_img[i], cmap='Greys_r')\n",
    "    plt.axis('off')\n",
    "plt.show()\n",
    "print('label: %s' % (test_lbl[0:10],))\n",
    "print('label: %s' % (test_lbl[10:20],))"
   ]
  },
  {
   "cell_type": "code",
   "execution_count": 12,
   "metadata": {
    "collapsed": false
   },
   "outputs": [],
   "source": [
    "# For deskwing the digits\n",
    "import cv2\n",
    "SZ=28\n",
    "affine_flags = cv2.WARP_INVERSE_MAP|cv2.INTER_LINEAR"
   ]
  },
  {
   "cell_type": "code",
   "execution_count": 13,
   "metadata": {
    "collapsed": true
   },
   "outputs": [],
   "source": [
    "# We deskew image using its second order moments\n",
    "def deskew(img):\n",
    "    m = cv2.moments(img)\n",
    "    if abs(m['mu02']) < 1e-2:\n",
    "        # no deskewing needed. \n",
    "        return img.copy()\n",
    "    # Calculate skew based on central momemts. \n",
    "    skew = m['mu11']/m['mu02']\n",
    "    # Calculate affine transform to correct skewness. \n",
    "    M = np.float32([[1, skew, -0.5*SZ*skew], [0, 1, 0]])\n",
    "    # Apply affine transform\n",
    "    img = cv2.warpAffine(img, M, (SZ, SZ), flags=affine_flags)\n",
    "    return img"
   ]
  },
  {
   "cell_type": "code",
   "execution_count": null,
   "metadata": {
    "collapsed": true
   },
   "outputs": [],
   "source": []
  },
  {
   "cell_type": "code",
   "execution_count": 14,
   "metadata": {
    "collapsed": false
   },
   "outputs": [],
   "source": [
    "# to obtain the list of image after deskewing\n",
    "train_deskew_images = list(map(deskew,train_img))"
   ]
  },
  {
   "cell_type": "code",
   "execution_count": 15,
   "metadata": {
    "collapsed": false
   },
   "outputs": [
    {
     "data": {
      "image/png": "[encoded data removed]",
      "text/plain": [
       "<matplotlib.figure.Figure at 0x2334b7c5630>"
      ]
     },
     "metadata": {},
     "output_type": "display_data"
    },
    {
     "name": "stdout",
     "output_type": "stream",
     "text": [
      "label: [5 0 4 1 9 2 1 3 1 4]\n",
      "label: [3 5 3 6 1 7 2 8 6 9]\n",
      "label: [4 0 9 1 1 2 4 3 2 7]\n",
      "label: [3 8 6 9 0 5 6 0 7 6]\n",
      "label: [1 8 7 9 3 9 8 5 9 3]\n"
     ]
    }
   ],
   "source": [
    "\n",
    "for i in range(50):\n",
    "    plt.subplot(5,10,i+1)\n",
    "    plt.imshow(train_deskew_images[i], cmap='Greys_r')\n",
    "    plt.axis('off')\n",
    "plt.show()\n",
    "print('label: %s' % (train_lbl[0:10],))\n",
    "print('label: %s' % (train_lbl[10:20],))\n",
    "print('label: %s' % (train_lbl[20:30],))\n",
    "print('label: %s' % (train_lbl[30:40],))\n",
    "print('label: %s' % (train_lbl[40:50],))"
   ]
  },
  {
   "cell_type": "code",
   "execution_count": 16,
   "metadata": {
    "collapsed": false
   },
   "outputs": [],
   "source": [
    "zero_index = [1,21,37]"
   ]
  },
  {
   "cell_type": "code",
   "execution_count": 17,
   "metadata": {
    "collapsed": false
   },
   "outputs": [
    {
     "data": {
      "image/png": "[encoded data removed]",
      "text/plain": [
       "<matplotlib.figure.Figure at 0x2334b7c5320>"
      ]
     },
     "metadata": {},
     "output_type": "display_data"
    }
   ],
   "source": [
    "for i in range(3):\n",
    "    plt.subplot(1,10,i+1)\n",
    "    plt.imshow(train_deskew_images[zero_index[i]], cmap='Greys_r')\n",
    "    plt.axis('off')\n",
    "plt.show()"
   ]
  },
  {
   "cell_type": "code",
   "execution_count": 18,
   "metadata": {
    "collapsed": true
   },
   "outputs": [],
   "source": [
    "one_index = [3,6,8]"
   ]
  },
  {
   "cell_type": "code",
   "execution_count": 19,
   "metadata": {
    "collapsed": false
   },
   "outputs": [
    {
     "data": {
      "image/png": "[encoded data removed]",
      "text/plain": [
       "<matplotlib.figure.Figure at 0x2334e225978>"
      ]
     },
     "metadata": {},
     "output_type": "display_data"
    }
   ],
   "source": [
    "for i in range(3):\n",
    "    plt.subplot(1,10,i+1)\n",
    "    plt.imshow(train_deskew_images[one_index[i]], cmap='Greys_r')\n",
    "    plt.axis('off')\n",
    "plt.show()"
   ]
  },
  {
   "cell_type": "code",
   "execution_count": 20,
   "metadata": {
    "collapsed": true
   },
   "outputs": [],
   "source": [
    "two_index = [5,16,25]"
   ]
  },
  {
   "cell_type": "code",
   "execution_count": 21,
   "metadata": {
    "collapsed": false
   },
   "outputs": [
    {
     "data": {
      "image/png": "[encoded data removed]",
      "text/plain": [
       "<matplotlib.figure.Figure at 0x2334e40b048>"
      ]
     },
     "metadata": {},
     "output_type": "display_data"
    }
   ],
   "source": [
    "for i in range(3):\n",
    "    plt.subplot(1,10,i+1)\n",
    "    plt.imshow(train_deskew_images[two_index[i]], cmap='Greys_r')\n",
    "    plt.axis('off')\n",
    "plt.show()"
   ]
  },
  {
   "cell_type": "code",
   "execution_count": 22,
   "metadata": {
    "collapsed": true
   },
   "outputs": [],
   "source": [
    "three_index = [7,10,12]"
   ]
  },
  {
   "cell_type": "code",
   "execution_count": 23,
   "metadata": {
    "collapsed": false
   },
   "outputs": [
    {
     "data": {
      "image/png": "[encoded data removed]",
      "text/plain": [
       "<matplotlib.figure.Figure at 0x2334e4529e8>"
      ]
     },
     "metadata": {},
     "output_type": "display_data"
    }
   ],
   "source": [
    "for i in range(3):\n",
    "    plt.subplot(1,10,i+1)\n",
    "    plt.imshow(train_deskew_images[three_index[i]], cmap='Greys_r')\n",
    "    plt.axis('off')\n",
    "plt.show()"
   ]
  },
  {
   "cell_type": "code",
   "execution_count": 24,
   "metadata": {
    "collapsed": true
   },
   "outputs": [],
   "source": [
    "four_index = [2,9,20]"
   ]
  },
  {
   "cell_type": "code",
   "execution_count": 25,
   "metadata": {
    "collapsed": false
   },
   "outputs": [
    {
     "data": {
      "image/png": "[encoded data removed]",
      "text/plain": [
       "<matplotlib.figure.Figure at 0x2334b626b70>"
      ]
     },
     "metadata": {},
     "output_type": "display_data"
    }
   ],
   "source": [
    "for i in range(3):\n",
    "    plt.subplot(1,10,i+1)\n",
    "    plt.imshow(train_deskew_images[four_index[i]], cmap='Greys_r')\n",
    "    plt.axis('off')\n",
    "plt.show()"
   ]
  },
  {
   "cell_type": "code",
   "execution_count": 26,
   "metadata": {
    "collapsed": true
   },
   "outputs": [],
   "source": [
    "five_index = [0,11,35]"
   ]
  },
  {
   "cell_type": "code",
   "execution_count": 27,
   "metadata": {
    "collapsed": false
   },
   "outputs": [
    {
     "data": {
      "image/png": "[encoded data removed]",
      "text/plain": [
       "<matplotlib.figure.Figure at 0x2334bb5b358>"
      ]
     },
     "metadata": {},
     "output_type": "display_data"
    }
   ],
   "source": [
    "for i in range(3):\n",
    "    plt.subplot(1,10,i+1)\n",
    "    plt.imshow(train_deskew_images[five_index[i]], cmap='Greys_r')\n",
    "    plt.axis('off')\n",
    "plt.show()"
   ]
  },
  {
   "cell_type": "code",
   "execution_count": 28,
   "metadata": {
    "collapsed": true
   },
   "outputs": [],
   "source": [
    "six_index = [18,32,36]"
   ]
  },
  {
   "cell_type": "code",
   "execution_count": 29,
   "metadata": {
    "collapsed": false
   },
   "outputs": [
    {
     "data": {
      "image/png": "[encoded data removed]",
      "text/plain": [
       "<matplotlib.figure.Figure at 0x2334b68d748>"
      ]
     },
     "metadata": {},
     "output_type": "display_data"
    }
   ],
   "source": [
    "for i in range(3):\n",
    "    plt.subplot(1,10,i+1)\n",
    "    plt.imshow(train_deskew_images[six_index[i]], cmap='Greys_r')\n",
    "    plt.axis('off')\n",
    "plt.show()"
   ]
  },
  {
   "cell_type": "code",
   "execution_count": 30,
   "metadata": {
    "collapsed": true
   },
   "outputs": [],
   "source": [
    "seven_index = [15,29,38]"
   ]
  },
  {
   "cell_type": "code",
   "execution_count": 31,
   "metadata": {
    "collapsed": false
   },
   "outputs": [
    {
     "data": {
      "image/png": "[encoded data removed]",
      "text/plain": [
       "<matplotlib.figure.Figure at 0x2334b7cccf8>"
      ]
     },
     "metadata": {},
     "output_type": "display_data"
    }
   ],
   "source": [
    "for i in range(3):\n",
    "    plt.subplot(1,10,i+1)\n",
    "    plt.imshow(train_deskew_images[seven_index[i]], cmap='Greys_r')\n",
    "    plt.axis('off')\n",
    "plt.show()"
   ]
  },
  {
   "cell_type": "code",
   "execution_count": 32,
   "metadata": {
    "collapsed": true
   },
   "outputs": [],
   "source": [
    "eight_index = [17,31,41]"
   ]
  },
  {
   "cell_type": "code",
   "execution_count": 33,
   "metadata": {
    "collapsed": false
   },
   "outputs": [
    {
     "data": {
      "image/png": "[encoded data removed]",
      "text/plain": [
       "<matplotlib.figure.Figure at 0x2334d06ec50>"
      ]
     },
     "metadata": {},
     "output_type": "display_data"
    }
   ],
   "source": [
    "for i in range(3):\n",
    "    plt.subplot(1,10,i+1)\n",
    "    plt.imshow(train_deskew_images[eight_index[i]], cmap='Greys_r')\n",
    "    plt.axis('off')\n",
    "plt.show()"
   ]
  },
  {
   "cell_type": "code",
   "execution_count": 34,
   "metadata": {
    "collapsed": true
   },
   "outputs": [],
   "source": [
    "nine_index = [4,19,22]"
   ]
  },
  {
   "cell_type": "code",
   "execution_count": 35,
   "metadata": {
    "collapsed": false
   },
   "outputs": [
    {
     "data": {
      "image/png": "[encoded data removed]",
      "text/plain": [
       "<matplotlib.figure.Figure at 0x2334d1f14e0>"
      ]
     },
     "metadata": {},
     "output_type": "display_data"
    }
   ],
   "source": [
    "for i in range(3):\n",
    "    plt.subplot(1,10,i+1)\n",
    "    plt.imshow(train_deskew_images[nine_index[i]], cmap='Greys_r')\n",
    "    plt.axis('off')\n",
    "plt.show()"
   ]
  },
  {
   "cell_type": "code",
   "execution_count": 36,
   "metadata": {
    "collapsed": true
   },
   "outputs": [],
   "source": [
    "# to obtain the list of image after deskewing\n",
    "test_deskew_images = list(map(deskew,test_img))"
   ]
  },
  {
   "cell_type": "code",
   "execution_count": 37,
   "metadata": {
    "collapsed": false
   },
   "outputs": [
    {
     "data": {
      "image/png": "[encoded data removed]",
      "text/plain": [
       "<matplotlib.figure.Figure at 0x2334bd84048>"
      ]
     },
     "metadata": {},
     "output_type": "display_data"
    },
    {
     "name": "stdout",
     "output_type": "stream",
     "text": [
      "label: [7 2 1 0 4 1 4 9 5 9]\n",
      "label: [0 6 9 0 1 5 9 7 3 4]\n"
     ]
    }
   ],
   "source": [
    "\n",
    "for i in range(20):\n",
    "    plt.subplot(2,10,i+1)\n",
    "    plt.imshow(test_deskew_images[i], cmap='Greys_r')\n",
    "    plt.axis('off')\n",
    "plt.show()\n",
    "print('label: %s' % (test_lbl[0:10],))\n",
    "print('label: %s' % (test_lbl[10:20],))"
   ]
  },
  {
   "cell_type": "code",
   "execution_count": null,
   "metadata": {
    "collapsed": true
   },
   "outputs": [],
   "source": []
  },
  {
   "cell_type": "code",
   "execution_count": null,
   "metadata": {
    "collapsed": true
   },
   "outputs": [],
   "source": []
  },
  {
   "cell_type": "code",
   "execution_count": null,
   "metadata": {
    "collapsed": false
   },
   "outputs": [],
   "source": []
  },
  {
   "cell_type": "code",
   "execution_count": null,
   "metadata": {
    "collapsed": true
   },
   "outputs": [],
   "source": []
  },
  {
   "cell_type": "code",
   "execution_count": 38,
   "metadata": {
    "collapsed": false
   },
   "outputs": [],
   "source": [
    "# We vectorize image using flatten() function\n",
    "def vector(img):\n",
    "    img = img.flatten()\n",
    "    return img\n"
   ]
  },
  {
   "cell_type": "code",
   "execution_count": 39,
   "metadata": {
    "collapsed": false
   },
   "outputs": [],
   "source": [
    "# to obtain the list of train image after vectorization\n",
    "train_images_vector = list(map(vector,train_deskew_images))"
   ]
  },
  {
   "cell_type": "code",
   "execution_count": 40,
   "metadata": {
    "collapsed": false
   },
   "outputs": [
    {
     "data": {
      "text/plain": [
       "(784,)"
      ]
     },
     "execution_count": 40,
     "metadata": {},
     "output_type": "execute_result"
    }
   ],
   "source": [
    "train_images_vector[0].shape"
   ]
  },
  {
   "cell_type": "code",
   "execution_count": 41,
   "metadata": {
    "collapsed": false
   },
   "outputs": [
    {
     "data": {
      "text/plain": [
       "array([  0,   0,   0,   0,   0,   0,   0,   0,   0,   0,   0,   0,   0,\n",
       "         0,   0,   0,   0,   0,   0,   0,   0,   0,   0,   0,   0,   0,\n",
       "         0,   0,   0,   0,   0,   0,   0,   0,   0,   0,   0,   0,   0,\n",
       "         0,   0,   0,   0,   0,   0,   0,   0,   0,   0,   0,   0,   0,\n",
       "         0,   0,   0,   0,   0,   0,   0,   0,   0,   0,   0,   0,   0,\n",
       "         0,   0,   0,   0,   0,   0,   0,   0,   0,   0,   0,   0,   0,\n",
       "         0,   0,   0,   0,   0,   0,   0,   0,   0,   0,   0,   0,   0,\n",
       "         0,   0,   0,   0,   0,   0,   0,   0,   0,   0,   0,   0,   0,\n",
       "         0,   0,   0,   0,   0,   0,   0,   0,   0,   0,   0,   0,   0,\n",
       "         0,   0,   0,   0,   0,   0,   0,   0,   0,   0,   0,   0,   0,\n",
       "         0,   0,   0,   0,   0,   0,   0,   0,   0,   0,   0,   0,   0,\n",
       "         0,   0,   0,   0,   0,   0,   0,   4,  18,  18,  28, 127, 140,\n",
       "       161,  39, 174, 254, 236, 115,   0,   0,   0,   0,   0,   0,   0,\n",
       "         0,   0,   0,   0,   0,  26,  35,  87, 147, 168, 243, 253, 253,\n",
       "       253, 253, 229, 179, 243, 243, 201,  80,   8,   0,   0,   0,   0,\n",
       "         0,   0,   0,   0,   0,   0,  31, 167, 247, 253, 253, 253, 253,\n",
       "       253, 253, 253, 252, 152,  86,  82,  66,  45,  15,   0,   0,   0,\n",
       "         0,   0,   0,   0,   0,   0,   0,   0,   7, 100, 233, 253, 253,\n",
       "       253, 253, 231, 192, 208, 245, 143,   0,   0,   0,   0,   0,   0,\n",
       "         0,   0,   0,   0,   0,   0,   0,   0,   0,   0,   0,  13,  92,\n",
       "       148, 130, 253, 246, 175,   9,   7,  60, 130,   0,   0,   0,   0,\n",
       "         0,   0,   0,   0,   0,   0,   0,   0,   0,   0,   0,   0,   0,\n",
       "         0,   0,  13,   2, 144, 247, 100,   6,   0,   0,   0,   0,   0,\n",
       "         0,   0,   0,   0,   0,   0,   0,   0,   0,   0,   0,   0,   0,\n",
       "         0,   0,   0,   0,   0,   0,  96, 217, 210,  61,   1,   0,   0,\n",
       "         0,   0,   0,   0,   0,   0,   0,   0,   0,   0,   0,   0,   0,\n",
       "         0,   0,   0,   0,   0,   0,   0,   0,   5,  95, 220, 167,  37,\n",
       "         0,   0,   0,   0,   0,   0,   0,   0,   0,   0,   0,   0,   0,\n",
       "         0,   0,   0,   0,   0,   0,   0,   0,   0,   0,   0,   8,  80,\n",
       "       238, 211, 149,  85,   1,   0,   0,   0,   0,   0,   0,   0,   0,\n",
       "         0,   0,   0,   0,   0,   0,   0,   0,   0,   0,   0,   0,   0,\n",
       "         0,   0,  81, 240, 253, 253, 119,  25,   0,   0,   0,   0,   0,\n",
       "         0,   0,   0,   0,   0,   0,   0,   0,   0,   0,   0,   0,   0,\n",
       "         0,   0,   0,   0,   0,  35, 155, 238, 253, 173,  54,   6,   0,\n",
       "         0,   0,   0,   0,   0,   0,   0,   0,   0,   0,   0,   0,   0,\n",
       "         0,   0,   0,   0,   0,   0,   0,   0,   9,  57, 177, 253, 218,\n",
       "        88,   0,   0,   0,   0,   0,   0,   0,   0,   0,   0,   0,   0,\n",
       "         0,   0,   0,   0,   0,   0,   0,   0,   0,   0,   0,   0,  78,\n",
       "       250, 252, 191,  44,   0,   0,   0,   0,   0,   0,   0,   0,   0,\n",
       "         0,   0,   0,   0,   0,   0,   0,   0,   0,   0,   0,   3,  51,\n",
       "       133, 187, 253, 250, 194,   2,   0,   0,   0,   0,   0,   0,   0,\n",
       "         0,   0,   0,   0,   0,   0,   0,   0,   0,   0,   0,   0,  33,\n",
       "       131, 216, 249, 253, 253, 250, 193,  28,   0,   0,   0,   0,   0,\n",
       "         0,   0,   0,   0,   0,   0,   0,   0,   0,   0,   0,   0,  14,\n",
       "        77, 178, 240, 253, 253, 253, 222, 128,  32,   0,   0,   0,   0,\n",
       "         0,   0,   0,   0,   0,   0,   0,   0,   0,   0,   0,   0,   9,\n",
       "        39, 121, 228, 253, 253, 253, 232, 154,  51,   1,   0,   0,   0,\n",
       "         0,   0,   0,   0,   0,   0,   0,   0,   0,   0,   0,   0,   2,\n",
       "        37, 177, 223, 253, 253, 253, 246, 181,  71,   8,   0,   0,   0,\n",
       "         0,   0,   0,   0,   0,   0,   0,   0,   0,   0,   0,   0,   0,\n",
       "        50, 161, 221, 250, 253, 253, 253, 245, 143,  22,   1,   0,   0,\n",
       "         0,   0,   0,   0,   0,   0,   0,   0,   0,   0,   0,   0,   0,\n",
       "         0,   0,  94, 216, 253, 253, 225, 159, 133,  52,   5,   0,   0,\n",
       "         0,   0,   0,   0,   0,   0,   0,   0,   0,   0,   0,   0,   0,\n",
       "         0,   0,   0,   0,   0,   0,   0,   0,   0,   0,   0,   0,   0,\n",
       "         0,   0,   0,   0,   0,   0,   0,   0,   0,   0,   0,   0,   0,\n",
       "         0,   0,   0,   0,   0,   0,   0,   0,   0,   0,   0,   0,   0,\n",
       "         0,   0,   0,   0,   0,   0,   0,   0,   0,   0,   0,   0,   0,\n",
       "         0,   0,   0,   0,   0,   0,   0,   0,   0,   0,   0,   0,   0,\n",
       "         0,   0,   0,   0,   0,   0,   0,   0,   0,   0,   0,   0,   0,\n",
       "         0,   0,   0,   0], dtype=uint8)"
      ]
     },
     "execution_count": 41,
     "metadata": {},
     "output_type": "execute_result"
    }
   ],
   "source": [
    "train_images_vector[0]\n"
   ]
  },
  {
   "cell_type": "code",
   "execution_count": 42,
   "metadata": {
    "collapsed": false
   },
   "outputs": [
    {
     "data": {
      "image/png": "[encoded data removed]",
      "text/plain": [
       "<matplotlib.figure.Figure at 0x2334e4510f0>"
      ]
     },
     "metadata": {},
     "output_type": "display_data"
    }
   ],
   "source": [
    "plt.subplot(1,10,1)\n",
    "plt.imshow(test_deskew_images[0], cmap='Greys_r')\n",
    "plt.axis('off')\n",
    "plt.show()"
   ]
  },
  {
   "cell_type": "code",
   "execution_count": 43,
   "metadata": {
    "collapsed": false
   },
   "outputs": [
    {
     "data": {
      "text/plain": [
       "[<matplotlib.lines.Line2D at 0x2334c7e6c50>,\n",
       " <matplotlib.lines.Line2D at 0x2334c7e6e10>,\n",
       " <matplotlib.lines.Line2D at 0x2334c7e6fd0>,\n",
       " <matplotlib.lines.Line2D at 0x2334c7e1240>,\n",
       " <matplotlib.lines.Line2D at 0x2334c7e1438>,\n",
       " <matplotlib.lines.Line2D at 0x2334c7e1630>,\n",
       " <matplotlib.lines.Line2D at 0x2334c7e1828>,\n",
       " <matplotlib.lines.Line2D at 0x2334c7e1a20>,\n",
       " <matplotlib.lines.Line2D at 0x2334c7e1c18>,\n",
       " <matplotlib.lines.Line2D at 0x2334c7e1e10>,\n",
       " <matplotlib.lines.Line2D at 0x2334c569240>,\n",
       " <matplotlib.lines.Line2D at 0x2334c800208>,\n",
       " <matplotlib.lines.Line2D at 0x2334c800400>,\n",
       " <matplotlib.lines.Line2D at 0x2334c8005f8>,\n",
       " <matplotlib.lines.Line2D at 0x2334c8007f0>,\n",
       " <matplotlib.lines.Line2D at 0x2334c8009e8>,\n",
       " <matplotlib.lines.Line2D at 0x2334c800be0>,\n",
       " <matplotlib.lines.Line2D at 0x2334c800dd8>,\n",
       " <matplotlib.lines.Line2D at 0x2334c800fd0>,\n",
       " <matplotlib.lines.Line2D at 0x2334c7f1208>,\n",
       " <matplotlib.lines.Line2D at 0x2334c7f1400>,\n",
       " <matplotlib.lines.Line2D at 0x2334c7f15f8>,\n",
       " <matplotlib.lines.Line2D at 0x2334c7f17f0>,\n",
       " <matplotlib.lines.Line2D at 0x2334c7f19e8>,\n",
       " <matplotlib.lines.Line2D at 0x2334c7f1be0>,\n",
       " <matplotlib.lines.Line2D at 0x2334c7f1dd8>,\n",
       " <matplotlib.lines.Line2D at 0x2334c7f1fd0>,\n",
       " <matplotlib.lines.Line2D at 0x2334c152208>]"
      ]
     },
     "execution_count": 43,
     "metadata": {},
     "output_type": "execute_result"
    },
    {
     "data": {
      "image/png": "[encoded data removed]",
      "text/plain": [
       "<matplotlib.figure.Figure at 0x2334d060630>"
      ]
     },
     "metadata": {},
     "output_type": "display_data"
    }
   ],
   "source": [
    "plt.plot(test_deskew_images[0])"
   ]
  },
  {
   "cell_type": "code",
   "execution_count": 44,
   "metadata": {
    "collapsed": false
   },
   "outputs": [],
   "source": [
    "# to obtain the list of train image after vectorization\n",
    "test_images_vector = list(map(vector,test_deskew_images))"
   ]
  },
  {
   "cell_type": "code",
   "execution_count": 45,
   "metadata": {
    "collapsed": false
   },
   "outputs": [
    {
     "data": {
      "text/plain": [
       "(784,)"
      ]
     },
     "execution_count": 45,
     "metadata": {},
     "output_type": "execute_result"
    }
   ],
   "source": [
    "test_images_vector[0].shape"
   ]
  },
  {
   "cell_type": "code",
   "execution_count": 46,
   "metadata": {
    "collapsed": false
   },
   "outputs": [
    {
     "data": {
      "text/plain": [
       "array([  0,   0,   0,   0,   0,   0,   0,   0,   0,   0,   0,   0,   0,\n",
       "         0,   0,   0,   0,   0,   0,   0,   0,   0,   0,   0,   0,   0,\n",
       "         0,   0,   0,   0,   0,   0,   0,   0,   0,   0,   0,   0,   0,\n",
       "         0,   0,   0,   0,   0,   0,   0,   0,   0,   0,   0,   0,   0,\n",
       "         0,   0,   0,   0,   0,   0,   0,   0,   0,   0,   0,   0,   0,\n",
       "         0,   0,   0,   0,   0,   0,   0,   0,   0,   0,   0,   0,   0,\n",
       "         0,   0,   0,   0,   0,   0,   0,   0,   0,   0,   0,   0,   0,\n",
       "         0,   0,   0,   0,   0,   0,   0,   0,   0,   0,   0,   0,   0,\n",
       "         0,   0,   0,   0,   0,   0,   0,   0,   0,   0,   0,   0,   0,\n",
       "         0,   0,   0,   0,   0,   0,   0,   0,   0,   0,   0,   0,   0,\n",
       "         0,   0,   0,   0,   0,   0,   0,   0,   0,   0,   0,   0,   0,\n",
       "         0,   0,   0,   0,   0,   0,   0,   0,   0,   0,   0,   0,   0,\n",
       "         0,   0,   0,   0,   0,   0,   0,   0,   0,   0,   0,   0,   0,\n",
       "         0,   0,   0,   0,   0,   0,   0,   0,   0,   0,   0,   0,   0,\n",
       "         0,   0,   0,   0,   0,   0,   0,   0,   0,   0,   0,   0,   0,\n",
       "         0,   0,   0,   0,   0,   0,  42, 135, 172, 155, 106,  48,  18,\n",
       "         0,   0,   0,   0,   0,   0,   0,   0,   0,   0,   0,   0,   0,\n",
       "         0,   0,   0,   0,   0,   0,   0,   0,  97, 236, 254, 254, 254,\n",
       "       248, 222, 198, 198, 198, 198, 198, 198, 198, 186, 118,  29,   0,\n",
       "         0,   0,   0,   0,   0,   0,   0,   0,   0,   0,  25,  85,  98,\n",
       "        88, 132, 187, 237, 243, 236, 254, 254, 253, 242, 238, 254, 211,\n",
       "        88,   0,   0,   0,   0,   0,   0,   0,   0,   0,   0,   0,   0,\n",
       "         0,   0,   0,   0,   5,  31,  51,  29,  67,  67,  65,  48,  81,\n",
       "       241, 212,  76,   0,   0,   0,   0,   0,   0,   0,   0,   0,   0,\n",
       "         0,   0,   0,   0,   0,   0,   0,   0,   0,   0,   0,   0,   0,\n",
       "        18, 120, 243, 167,  14,   0,   0,   0,   0,   0,   0,   0,   0,\n",
       "         0,   0,   0,   0,   0,   0,   0,   0,   0,   0,   0,   0,   0,\n",
       "         0,   3,  55, 236, 228,  70,   0,   0,   0,   0,   0,   0,   0,\n",
       "         0,   0,   0,   0,   0,   0,   0,   0,   0,   0,   0,   0,   0,\n",
       "         0,   0,   0,   8, 137, 253, 226,  41,   0,   0,   0,   0,   0,\n",
       "         0,   0,   0,   0,   0,   0,   0,   0,   0,   0,   0,   0,   0,\n",
       "         0,   0,   0,   0,   0,  59, 249, 254,  62,   0,   0,   0,   0,\n",
       "         0,   0,   0,   0,   0,   0,   0,   0,   0,   0,   0,   0,   0,\n",
       "         0,   0,   0,   0,   0,   0,   0, 125, 246, 191,  16,   0,   0,\n",
       "         0,   0,   0,   0,   0,   0,   0,   0,   0,   0,   0,   0,   0,\n",
       "         0,   0,   0,   0,   0,   0,   0,   0,   8, 174, 241,  88,   9,\n",
       "         0,   0,   0,   0,   0,   0,   0,   0,   0,   0,   0,   0,   0,\n",
       "         0,   0,   0,   0,   0,   0,   0,   0,   0,   0,  98, 226, 198,\n",
       "        40,   0,   0,   0,   0,   0,   0,   0,   0,   0,   0,   0,   0,\n",
       "         0,   0,   0,   0,   0,   0,   0,   0,   0,   0,   0,  54, 202,\n",
       "       243, 108,  16,   0,   0,   0,   0,   0,   0,   0,   0,   0,   0,\n",
       "         0,   0,   0,   0,   0,   0,   0,   0,   0,   0,   0,   0,  12,\n",
       "       145, 242, 199,  62,   0,   0,   0,   0,   0,   0,   0,   0,   0,\n",
       "         0,   0,   0,   0,   0,   0,   0,   0,   0,   0,   0,   0,   0,\n",
       "         2, 116, 232, 234, 116,  15,   0,   0,   0,   0,   0,   0,   0,\n",
       "         0,   0,   0,   0,   0,   0,   0,   0,   0,   0,   0,   0,   0,\n",
       "         0,   0,  19, 146, 254, 166,  39,   0,   0,   0,   0,   0,   0,\n",
       "         0,   0,   0,   0,   0,   0,   0,   0,   0,   0,   0,   0,   0,\n",
       "         0,   0,   0,  13, 109, 236, 198,  69,   1,   0,   0,   0,   0,\n",
       "         0,   0,   0,   0,   0,   0,   0,   0,   0,   0,   0,   0,   0,\n",
       "         0,   0,   0,   0,   0,  46, 175, 254, 185,  34,   0,   0,   0,\n",
       "         0,   0,   0,   0,   0,   0,   0,   0,   0,   0,   0,   0,   0,\n",
       "         0,   0,   0,   0,   0,   0,  17, 112, 245, 254, 197,  37,   0,\n",
       "         0,   0,   0,   0,   0,   0,   0,   0,   0,   0,   0,   0,   0,\n",
       "         0,   0,   0,   0,   0,   0,   0,   0,  23, 146, 254, 247, 185,\n",
       "        33,   0,   0,   0,   0,   0,   0,   0,   0,   0,   0,   0,   0,\n",
       "         0,   0,   0,   0,   0,   0,   0,   0,   0,   0,  15, 138, 248,\n",
       "       183,  16,   0,   0,   0,   0,   0,   0,   0,   0,   0,   0,   0,\n",
       "         0,   0,   0,   0,   0,   0,   0,   0,   0,   0,   0,   0,   0,\n",
       "         0,   0,   0,   0,   0,   0,   0,   0,   0,   0,   0,   0,   0,\n",
       "         0,   0,   0,   0], dtype=uint8)"
      ]
     },
     "execution_count": 46,
     "metadata": {},
     "output_type": "execute_result"
    }
   ],
   "source": [
    "test_images_vector[0]"
   ]
  },
  {
   "cell_type": "code",
   "execution_count": 47,
   "metadata": {
    "collapsed": false
   },
   "outputs": [
    {
     "data": {
      "text/plain": [
       "[<matplotlib.lines.Line2D at 0x2334c395518>]"
      ]
     },
     "execution_count": 47,
     "metadata": {},
     "output_type": "execute_result"
    },
    {
     "data": {
      "image/png": "[encoded data removed]",
      "text/plain": [
       "<matplotlib.figure.Figure at 0x2334b70b128>"
      ]
     },
     "metadata": {},
     "output_type": "display_data"
    }
   ],
   "source": [
    "plt.plot(test_images_vector[0])"
   ]
  },
  {
   "cell_type": "code",
   "execution_count": 48,
   "metadata": {
    "collapsed": false
   },
   "outputs": [],
   "source": [
    "#Convert the list of images to array of images\n",
    "##train_image_array = np.asarray(train_deskew_images)\n",
    "##test_image_array = np.asarray(test_deskew_images)"
   ]
  },
  {
   "cell_type": "code",
   "execution_count": 49,
   "metadata": {
    "collapsed": true
   },
   "outputs": [],
   "source": [
    "#To implement binary threshold of 0 and 255 for both train and test image\n",
    "##ret,threshold_train = cv2.threshold(train_image_array,127,255,cv2.THRESH_BINARY)\n",
    "##ret1,threshold_test = cv2.threshold(test_image_array,127,255,cv2.THRESH_BINARY)"
   ]
  },
  {
   "cell_type": "code",
   "execution_count": 50,
   "metadata": {
    "collapsed": false
   },
   "outputs": [
    {
     "data": {
      "text/plain": [
       "array([[  0,   0,   0,   0,   0,   0,   0,   0,   0,   0,   0,   0,   0,\n",
       "          0,   0,   0,   0,   0,   0,   0,   0,   0,   0,   0,   0,   0,\n",
       "          0,   0],\n",
       "       [  0,   0,   0,   0,   0,   0,   0,   0,   0,   0,   0,   0,   0,\n",
       "          0,   0,   0,   0,   0,   0,   0,   0,   0,   0,   0,   0,   0,\n",
       "          0,   0],\n",
       "       [  0,   0,   0,   0,   0,   0,   0,   0,   0,   0,   0,   0,   0,\n",
       "          0,   0,   0,   0,   0,   0,   0,   0,   0,   0,   0,   0,   0,\n",
       "          0,   0],\n",
       "       [  0,   0,   0,   0,   0,   0,   0,   0,   0,   0,   0,   0,   0,\n",
       "          0,   0,   0,   0,   0,   0,   0,   0,   0,   0,   0,   0,   0,\n",
       "          0,   0],\n",
       "       [  0,   0,   0,   0,   0,   0,   0,   0,   0,   0,   0,   0,   0,\n",
       "          0,   0,   0,   0,   0,   0,   0,   0,   0,   0,   0,   0,   0,\n",
       "          0,   0],\n",
       "       [  0,   0,   0,   0,   0,   0,   0,   0,   0,   0,   4,  18,  18,\n",
       "         28, 127, 140, 161,  39, 174, 254, 236, 115,   0,   0,   0,   0,\n",
       "          0,   0],\n",
       "       [  0,   0,   0,   0,   0,   0,  26,  35,  87, 147, 168, 243, 253,\n",
       "        253, 253, 253, 229, 179, 243, 243, 201,  80,   8,   0,   0,   0,\n",
       "          0,   0],\n",
       "       [  0,   0,   0,   0,   0,  31, 167, 247, 253, 253, 253, 253, 253,\n",
       "        253, 253, 252, 152,  86,  82,  66,  45,  15,   0,   0,   0,   0,\n",
       "          0,   0],\n",
       "       [  0,   0,   0,   0,   0,   7, 100, 233, 253, 253, 253, 253, 231,\n",
       "        192, 208, 245, 143,   0,   0,   0,   0,   0,   0,   0,   0,   0,\n",
       "          0,   0],\n",
       "       [  0,   0,   0,   0,   0,   0,  13,  92, 148, 130, 253, 246, 175,\n",
       "          9,   7,  60, 130,   0,   0,   0,   0,   0,   0,   0,   0,   0,\n",
       "          0,   0],\n",
       "       [  0,   0,   0,   0,   0,   0,   0,   0,  13,   2, 144, 247, 100,\n",
       "          6,   0,   0,   0,   0,   0,   0,   0,   0,   0,   0,   0,   0,\n",
       "          0,   0],\n",
       "       [  0,   0,   0,   0,   0,   0,   0,   0,   0,   0,  96, 217, 210,\n",
       "         61,   1,   0,   0,   0,   0,   0,   0,   0,   0,   0,   0,   0,\n",
       "          0,   0],\n",
       "       [  0,   0,   0,   0,   0,   0,   0,   0,   0,   0,   5,  95, 220,\n",
       "        167,  37,   0,   0,   0,   0,   0,   0,   0,   0,   0,   0,   0,\n",
       "          0,   0],\n",
       "       [  0,   0,   0,   0,   0,   0,   0,   0,   0,   0,   0,   8,  80,\n",
       "        238, 211, 149,  85,   1,   0,   0,   0,   0,   0,   0,   0,   0,\n",
       "          0,   0],\n",
       "       [  0,   0,   0,   0,   0,   0,   0,   0,   0,   0,   0,   0,   0,\n",
       "         81, 240, 253, 253, 119,  25,   0,   0,   0,   0,   0,   0,   0,\n",
       "          0,   0],\n",
       "       [  0,   0,   0,   0,   0,   0,   0,   0,   0,   0,   0,   0,   0,\n",
       "          0,  35, 155, 238, 253, 173,  54,   6,   0,   0,   0,   0,   0,\n",
       "          0,   0],\n",
       "       [  0,   0,   0,   0,   0,   0,   0,   0,   0,   0,   0,   0,   0,\n",
       "          0,   0,   9,  57, 177, 253, 218,  88,   0,   0,   0,   0,   0,\n",
       "          0,   0],\n",
       "       [  0,   0,   0,   0,   0,   0,   0,   0,   0,   0,   0,   0,   0,\n",
       "          0,   0,   0,   0,  78, 250, 252, 191,  44,   0,   0,   0,   0,\n",
       "          0,   0],\n",
       "       [  0,   0,   0,   0,   0,   0,   0,   0,   0,   0,   0,   0,   0,\n",
       "          0,   3,  51, 133, 187, 253, 250, 194,   2,   0,   0,   0,   0,\n",
       "          0,   0],\n",
       "       [  0,   0,   0,   0,   0,   0,   0,   0,   0,   0,   0,   0,   0,\n",
       "         33, 131, 216, 249, 253, 253, 250, 193,  28,   0,   0,   0,   0,\n",
       "          0,   0],\n",
       "       [  0,   0,   0,   0,   0,   0,   0,   0,   0,   0,   0,  14,  77,\n",
       "        178, 240, 253, 253, 253, 222, 128,  32,   0,   0,   0,   0,   0,\n",
       "          0,   0],\n",
       "       [  0,   0,   0,   0,   0,   0,   0,   0,   0,   9,  39, 121, 228,\n",
       "        253, 253, 253, 232, 154,  51,   1,   0,   0,   0,   0,   0,   0,\n",
       "          0,   0],\n",
       "       [  0,   0,   0,   0,   0,   0,   0,   2,  37, 177, 223, 253, 253,\n",
       "        253, 246, 181,  71,   8,   0,   0,   0,   0,   0,   0,   0,   0,\n",
       "          0,   0],\n",
       "       [  0,   0,   0,   0,   0,   0,  50, 161, 221, 250, 253, 253, 253,\n",
       "        245, 143,  22,   1,   0,   0,   0,   0,   0,   0,   0,   0,   0,\n",
       "          0,   0],\n",
       "       [  0,   0,   0,   0,   0,   0,  94, 216, 253, 253, 225, 159, 133,\n",
       "         52,   5,   0,   0,   0,   0,   0,   0,   0,   0,   0,   0,   0,\n",
       "          0,   0],\n",
       "       [  0,   0,   0,   0,   0,   0,   0,   0,   0,   0,   0,   0,   0,\n",
       "          0,   0,   0,   0,   0,   0,   0,   0,   0,   0,   0,   0,   0,\n",
       "          0,   0],\n",
       "       [  0,   0,   0,   0,   0,   0,   0,   0,   0,   0,   0,   0,   0,\n",
       "          0,   0,   0,   0,   0,   0,   0,   0,   0,   0,   0,   0,   0,\n",
       "          0,   0],\n",
       "       [  0,   0,   0,   0,   0,   0,   0,   0,   0,   0,   0,   0,   0,\n",
       "          0,   0,   0,   0,   0,   0,   0,   0,   0,   0,   0,   0,   0,\n",
       "          0,   0]], dtype=uint8)"
      ]
     },
     "execution_count": 50,
     "metadata": {},
     "output_type": "execute_result"
    }
   ],
   "source": [
    "train_deskew_images[0]"
   ]
  },
  {
   "cell_type": "code",
   "execution_count": 51,
   "metadata": {
    "collapsed": false
   },
   "outputs": [
    {
     "data": {
      "image/png": "[encoded data removed]",
      "text/plain": [
       "<matplotlib.figure.Figure at 0x2334c349978>"
      ]
     },
     "metadata": {},
     "output_type": "display_data"
    }
   ],
   "source": [
    "plt.subplot(1,10,1)\n",
    "plt.axis('off')\n",
    "plt.imshow(train_deskew_images[0], cmap='Greys_r')\n",
    "plt.show()"
   ]
  },
  {
   "cell_type": "code",
   "execution_count": null,
   "metadata": {
    "collapsed": true
   },
   "outputs": [],
   "source": []
  },
  {
   "cell_type": "code",
   "execution_count": null,
   "metadata": {
    "collapsed": false
   },
   "outputs": [],
   "source": []
  },
  {
   "cell_type": "code",
   "execution_count": 52,
   "metadata": {
    "collapsed": false
   },
   "outputs": [],
   "source": [
    "def dimReduction(img):\n",
    "    train_14x14_image = []\n",
    "    for image in img:\n",
    "        pts1 = np.float32([[7,7],[21,7],[7,21],[21,21]])\n",
    "        pts2 = np.float32([[0,0],[14,0],[0,14],[14,14]])\n",
    "\n",
    "        M = cv2.getPerspectiveTransform(pts1,pts2)\n",
    "\n",
    "        dst = cv2.warpPerspective(image,M,(14,14))\n",
    "        train_14x14_image.append(dst)\n",
    "    return train_14x14_image\n"
   ]
  },
  {
   "cell_type": "code",
   "execution_count": 53,
   "metadata": {
    "collapsed": true
   },
   "outputs": [],
   "source": [
    "reduced_train_images = dimReduction(np.asarray(train_deskew_images))"
   ]
  },
  {
   "cell_type": "code",
   "execution_count": 54,
   "metadata": {
    "collapsed": false
   },
   "outputs": [
    {
     "data": {
      "image/png": "[encoded data removed]",
      "text/plain": [
       "<matplotlib.figure.Figure at 0x2334c482ef0>"
      ]
     },
     "metadata": {},
     "output_type": "display_data"
    },
    {
     "name": "stdout",
     "output_type": "stream",
     "text": [
      "label: [5 0 4 1 9 2 1 3 1 4]\n",
      "label: [3 5 3 6 1 7 2 8 6 9]\n"
     ]
    }
   ],
   "source": [
    "for i in range(20):\n",
    "    plt.subplot(2,10,i+1)\n",
    "    plt.imshow(reduced_train_images[i], cmap='Greys_r')\n",
    "    plt.axis('off')\n",
    "plt.show()\n",
    "print('label: %s' % (train_lbl[0:10],))\n",
    "print('label: %s' % (train_lbl[10:20],))"
   ]
  },
  {
   "cell_type": "code",
   "execution_count": 55,
   "metadata": {
    "collapsed": true
   },
   "outputs": [],
   "source": [
    "reduced_test_images = dimReduction(np.asarray(test_deskew_images))"
   ]
  },
  {
   "cell_type": "code",
   "execution_count": 56,
   "metadata": {
    "collapsed": false
   },
   "outputs": [
    {
     "data": {
      "image/png": "[encoded data removed]",
      "text/plain": [
       "<matplotlib.figure.Figure at 0x2334e384dd8>"
      ]
     },
     "metadata": {},
     "output_type": "display_data"
    },
    {
     "name": "stdout",
     "output_type": "stream",
     "text": [
      "label: [7 2 1 0 4 1 4 9 5 9]\n",
      "label: [0 6 9 0 1 5 9 7 3 4]\n"
     ]
    }
   ],
   "source": [
    "for i in range(20):\n",
    "    plt.subplot(2,10,i+1)\n",
    "    plt.imshow(reduced_test_images[i], cmap='Greys_r')\n",
    "    plt.axis('off')\n",
    "plt.show()\n",
    "print('label: %s' % (test_lbl[0:10],))\n",
    "print('label: %s' % (test_lbl[10:20],))"
   ]
  },
  {
   "cell_type": "code",
   "execution_count": 57,
   "metadata": {
    "collapsed": false
   },
   "outputs": [
    {
     "data": {
      "text/plain": [
       "array([[247, 253, 253, 253, 253, 253, 253, 253, 252, 152,  86,  82,  66,\n",
       "         45],\n",
       "       [233, 253, 253, 253, 253, 231, 192, 208, 245, 143,   0,   0,   0,\n",
       "          0],\n",
       "       [ 92, 148, 130, 253, 246, 175,   9,   7,  60, 130,   0,   0,   0,\n",
       "          0],\n",
       "       [  0,  13,   2, 144, 247, 100,   6,   0,   0,   0,   0,   0,   0,\n",
       "          0],\n",
       "       [  0,   0,   0,  96, 217, 210,  61,   1,   0,   0,   0,   0,   0,\n",
       "          0],\n",
       "       [  0,   0,   0,   5,  95, 220, 167,  37,   0,   0,   0,   0,   0,\n",
       "          0],\n",
       "       [  0,   0,   0,   0,   8,  80, 238, 211, 149,  85,   1,   0,   0,\n",
       "          0],\n",
       "       [  0,   0,   0,   0,   0,   0,  81, 240, 253, 253, 119,  25,   0,\n",
       "          0],\n",
       "       [  0,   0,   0,   0,   0,   0,   0,  35, 155, 238, 253, 173,  54,\n",
       "          6],\n",
       "       [  0,   0,   0,   0,   0,   0,   0,   0,   9,  57, 177, 253, 218,\n",
       "         88],\n",
       "       [  0,   0,   0,   0,   0,   0,   0,   0,   0,   0,  78, 250, 252,\n",
       "        191],\n",
       "       [  0,   0,   0,   0,   0,   0,   0,   3,  51, 133, 187, 253, 250,\n",
       "        194],\n",
       "       [  0,   0,   0,   0,   0,   0,  33, 131, 216, 249, 253, 253, 250,\n",
       "        193],\n",
       "       [  0,   0,   0,   0,  14,  77, 178, 240, 253, 253, 253, 222, 128,\n",
       "         32]], dtype=uint8)"
      ]
     },
     "execution_count": 57,
     "metadata": {},
     "output_type": "execute_result"
    }
   ],
   "source": [
    "reduced_train_images[0]"
   ]
  },
  {
   "cell_type": "code",
   "execution_count": 58,
   "metadata": {
    "collapsed": true
   },
   "outputs": [],
   "source": [
    "#Convert the list of images to array of images\n",
    "train_image_array = np.asarray(reduced_train_images)\n"
   ]
  },
  {
   "cell_type": "code",
   "execution_count": 59,
   "metadata": {
    "collapsed": true
   },
   "outputs": [],
   "source": [
    "#To implement binary threshold of 0 and 255 for both train and test image\n",
    "ret,threshold_train = cv2.threshold(train_image_array,127,255,cv2.THRESH_BINARY)\n"
   ]
  },
  {
   "cell_type": "code",
   "execution_count": 60,
   "metadata": {
    "collapsed": false
   },
   "outputs": [
    {
     "data": {
      "image/png": "[encoded data removed]",
      "text/plain": [
       "<matplotlib.figure.Figure at 0x2334b825550>"
      ]
     },
     "metadata": {},
     "output_type": "display_data"
    },
    {
     "name": "stdout",
     "output_type": "stream",
     "text": [
      "label: [5 0 4 1 9 2 1 3 1 4]\n",
      "label: [3 5 3 6 1 7 2 8 6 9]\n"
     ]
    }
   ],
   "source": [
    "for i in range(20):\n",
    "    plt.subplot(2,10,i+1)\n",
    "    plt.imshow(threshold_train[i], cmap='Greys_r')\n",
    "    plt.axis('off')\n",
    "plt.show()\n",
    "print('label: %s' % (train_lbl[0:10],))\n",
    "print('label: %s' % (train_lbl[10:20],))"
   ]
  },
  {
   "cell_type": "code",
   "execution_count": 61,
   "metadata": {
    "collapsed": true
   },
   "outputs": [],
   "source": [
    "test_image_array = np.asarray(reduced_test_images)"
   ]
  },
  {
   "cell_type": "code",
   "execution_count": 62,
   "metadata": {
    "collapsed": true
   },
   "outputs": [],
   "source": [
    "ret1,threshold_test = cv2.threshold(test_image_array,127,255,cv2.THRESH_BINARY)"
   ]
  },
  {
   "cell_type": "code",
   "execution_count": 63,
   "metadata": {
    "collapsed": false
   },
   "outputs": [
    {
     "data": {
      "image/png": "[encoded data removed]",
      "text/plain": [
       "<matplotlib.figure.Figure at 0x2334d087ac8>"
      ]
     },
     "metadata": {},
     "output_type": "display_data"
    },
    {
     "name": "stdout",
     "output_type": "stream",
     "text": [
      "label: [7 2 1 0 4 1 4 9 5 9]\n",
      "label: [0 6 9 0 1 5 9 7 3 4]\n"
     ]
    }
   ],
   "source": [
    "for i in range(20):\n",
    "    plt.subplot(2,10,i+1)\n",
    "    plt.imshow(threshold_test[i], cmap='Greys_r')\n",
    "    plt.axis('off')\n",
    "plt.show()\n",
    "print('label: %s' % (test_lbl[0:10],))\n",
    "print('label: %s' % (test_lbl[10:20],))"
   ]
  },
  {
   "cell_type": "code",
   "execution_count": 64,
   "metadata": {
    "collapsed": false
   },
   "outputs": [
    {
     "data": {
      "image/png": "[encoded data removed]",
      "text/plain": [
       "<matplotlib.figure.Figure at 0x2334b800c50>"
      ]
     },
     "metadata": {},
     "output_type": "display_data"
    }
   ],
   "source": [
    "for i in range(3):\n",
    "    plt.subplot(1,10,i+1)\n",
    "    plt.imshow(threshold_train[zero_index[i]], cmap='Greys_r')\n",
    "    plt.axis('off')\n",
    "plt.show()"
   ]
  },
  {
   "cell_type": "code",
   "execution_count": 65,
   "metadata": {
    "collapsed": false
   },
   "outputs": [
    {
     "data": {
      "image/png": "[encoded data removed]",
      "text/plain": [
       "<matplotlib.figure.Figure at 0x2334c3ab978>"
      ]
     },
     "metadata": {},
     "output_type": "display_data"
    }
   ],
   "source": [
    "for i in range(3):\n",
    "    plt.subplot(1,10,i+1)\n",
    "    plt.imshow(threshold_train[one_index[i]], cmap='Greys_r')\n",
    "    plt.axis('off')\n",
    "plt.show()"
   ]
  },
  {
   "cell_type": "code",
   "execution_count": 66,
   "metadata": {
    "collapsed": false
   },
   "outputs": [
    {
     "data": {
      "image/png": "[encoded data removed]",
      "text/plain": [
       "<matplotlib.figure.Figure at 0x2334e26ef60>"
      ]
     },
     "metadata": {},
     "output_type": "display_data"
    }
   ],
   "source": [
    "for i in range(3):\n",
    "    plt.subplot(1,10,i+1)\n",
    "    plt.imshow(threshold_train[two_index[i]], cmap='Greys_r')\n",
    "    plt.axis('off')\n",
    "plt.show()"
   ]
  },
  {
   "cell_type": "code",
   "execution_count": 67,
   "metadata": {
    "collapsed": false
   },
   "outputs": [
    {
     "data": {
      "image/png": "[encoded data removed]",
      "text/plain": [
       "<matplotlib.figure.Figure at 0x2334b81c470>"
      ]
     },
     "metadata": {},
     "output_type": "display_data"
    }
   ],
   "source": [
    "for i in range(3):\n",
    "    plt.subplot(1,10,i+1)\n",
    "    plt.imshow(threshold_train[three_index[i]], cmap='Greys_r')\n",
    "    plt.axis('off')\n",
    "plt.show()"
   ]
  },
  {
   "cell_type": "code",
   "execution_count": 68,
   "metadata": {
    "collapsed": false
   },
   "outputs": [
    {
     "data": {
      "image/png": "[encoded data removed]",
      "text/plain": [
       "<matplotlib.figure.Figure at 0x2334e3c22b0>"
      ]
     },
     "metadata": {},
     "output_type": "display_data"
    }
   ],
   "source": [
    "for i in range(3):\n",
    "    plt.subplot(1,10,i+1)\n",
    "    plt.imshow(threshold_train[four_index[i]], cmap='Greys_r')\n",
    "    plt.axis('off')\n",
    "plt.show()"
   ]
  },
  {
   "cell_type": "code",
   "execution_count": 69,
   "metadata": {
    "collapsed": false
   },
   "outputs": [
    {
     "data": {
      "image/png": "[encoded data removed]",
      "text/plain": [
       "<matplotlib.figure.Figure at 0x2334bd92c88>"
      ]
     },
     "metadata": {},
     "output_type": "display_data"
    }
   ],
   "source": [
    "for i in range(3):\n",
    "    plt.subplot(1,10,i+1)\n",
    "    plt.imshow(threshold_train[five_index[i]], cmap='Greys_r')\n",
    "    plt.axis('off')\n",
    "plt.show()"
   ]
  },
  {
   "cell_type": "code",
   "execution_count": 70,
   "metadata": {
    "collapsed": false
   },
   "outputs": [
    {
     "data": {
      "image/png": "[encoded data removed]",
      "text/plain": [
       "<matplotlib.figure.Figure at 0x2334bd7f470>"
      ]
     },
     "metadata": {},
     "output_type": "display_data"
    }
   ],
   "source": [
    "for i in range(3):\n",
    "    plt.subplot(1,10,i+1)\n",
    "    plt.imshow(threshold_train[six_index[i]], cmap='Greys_r')\n",
    "    plt.axis('off')\n",
    "plt.show()"
   ]
  },
  {
   "cell_type": "code",
   "execution_count": 71,
   "metadata": {
    "collapsed": false
   },
   "outputs": [
    {
     "data": {
      "image/png": "[encoded data removed]",
      "text/plain": [
       "<matplotlib.figure.Figure at 0x2334b694ef0>"
      ]
     },
     "metadata": {},
     "output_type": "display_data"
    }
   ],
   "source": [
    "for i in range(3):\n",
    "    plt.subplot(1,10,i+1)\n",
    "    plt.imshow(threshold_train[seven_index[i]], cmap='Greys_r')\n",
    "    plt.axis('off')\n",
    "plt.show()"
   ]
  },
  {
   "cell_type": "code",
   "execution_count": 72,
   "metadata": {
    "collapsed": false
   },
   "outputs": [
    {
     "data": {
      "image/png": "[encoded data removed]",
      "text/plain": [
       "<matplotlib.figure.Figure at 0x2334b822f28>"
      ]
     },
     "metadata": {},
     "output_type": "display_data"
    }
   ],
   "source": [
    "for i in range(3):\n",
    "    plt.subplot(1,10,i+1)\n",
    "    plt.imshow(threshold_train[eight_index[i]], cmap='Greys_r')\n",
    "    plt.axis('off')\n",
    "plt.show()"
   ]
  },
  {
   "cell_type": "code",
   "execution_count": 73,
   "metadata": {
    "collapsed": false
   },
   "outputs": [
    {
     "data": {
      "image/png": "[encoded data removed]",
      "text/plain": [
       "<matplotlib.figure.Figure at 0x2334b69f320>"
      ]
     },
     "metadata": {},
     "output_type": "display_data"
    }
   ],
   "source": [
    "for i in range(3):\n",
    "    plt.subplot(1,10,i+1)\n",
    "    plt.imshow(threshold_train[nine_index[i]], cmap='Greys_r')\n",
    "    plt.axis('off')\n",
    "plt.show()"
   ]
  },
  {
   "cell_type": "code",
   "execution_count": 74,
   "metadata": {
    "collapsed": false
   },
   "outputs": [],
   "source": [
    "def templateMatching(train_img,train_temp, num):\n",
    "    for j in range(3):\n",
    "        img = train_img[num[j]]\n",
    "        temp = train_temp[num[j]]\n",
    "        w,h = temp.shape[::-1]\n",
    "        # Apply template Matching\n",
    "        res = cv2.matchTemplate(img,temp,cv2.TM_CCOEFF)\n",
    "        min_val, max_val, min_loc, max_loc = cv2.minMaxLoc(res)\n",
    "        top_left = min_loc\n",
    "        top_left = max_loc\n",
    "        bottom_right = (top_left[0] + w, top_left[1] + h)\n",
    "        cv2.rectangle(img,top_left, bottom_right, 255, 2)\n",
    "        plt.subplot(121),plt.imshow(res,cmap = 'gray')\n",
    "        plt.title('Matching Result'), plt.xticks([]), plt.yticks([])\n",
    "        plt.subplot(122),plt.imshow(img,cmap = 'gray')\n",
    "        plt.title('Detected Point'), plt.xticks([]), plt.yticks([])\n",
    "        res = []\n",
    "        plt.show()"
   ]
  },
  {
   "cell_type": "code",
   "execution_count": 75,
   "metadata": {
    "collapsed": false
   },
   "outputs": [
    {
     "data": {
      "image/png": "[encoded data removed]",
      "text/plain": [
       "<matplotlib.figure.Figure at 0x257c92dacf8>"
      ]
     },
     "metadata": {},
     "output_type": "display_data"
    },
    {
     "data": {
      "image/png": "[encoded data removed]",
      "text/plain": [
       "<matplotlib.figure.Figure at 0x257c9a28198>"
      ]
     },
     "metadata": {},
     "output_type": "display_data"
    },
    {
     "data": {
      "image/png": "[encoded data removed]",
      "text/plain": [
       "<matplotlib.figure.Figure at 0x257ca8e78d0>"
      ]
     },
     "metadata": {},
     "output_type": "display_data"
    }
   ],
   "source": [
    " templateMatching(train_deskew_images,threshold_train, zero_index)"
   ]
  },
  {
   "cell_type": "code",
   "execution_count": 76,
   "metadata": {
    "collapsed": false
   },
   "outputs": [
    {
     "data": {
      "image/png": "[encoded data removed]",
      "text/plain": [
       "<matplotlib.figure.Figure at 0x257cad57c18>"
      ]
     },
     "metadata": {},
     "output_type": "display_data"
    },
    {
     "data": {
      "image/png": "[encoded data removed]",
      "text/plain": [
       "<matplotlib.figure.Figure at 0x257c93e5828>"
      ]
     },
     "metadata": {},
     "output_type": "display_data"
    },
    {
     "data": {
      "image/png": "[encoded data removed]",
      "text/plain": [
       "<matplotlib.figure.Figure at 0x257ca966d68>"
      ]
     },
     "metadata": {},
     "output_type": "display_data"
    }
   ],
   "source": [
    "templateMatching(train_deskew_images,threshold_train,one_index)"
   ]
  },
  {
   "cell_type": "code",
   "execution_count": 77,
   "metadata": {
    "collapsed": false
   },
   "outputs": [
    {
     "data": {
      "image/png": "[encoded data removed]",
      "text/plain": [
       "<matplotlib.figure.Figure at 0x257ca8dc0f0>"
      ]
     },
     "metadata": {},
     "output_type": "display_data"
    },
    {
     "data": {
      "image/png": "[encoded data removed]",
      "text/plain": [
       "<matplotlib.figure.Figure at 0x257cac32860>"
      ]
     },
     "metadata": {},
     "output_type": "display_data"
    },
    {
     "data": {
      "image/png": "[encoded data removed]",
      "text/plain": [
       "<matplotlib.figure.Figure at 0x257c942f278>"
      ]
     },
     "metadata": {},
     "output_type": "display_data"
    }
   ],
   "source": [
    "templateMatching(train_deskew_images,threshold_train,two_index)"
   ]
  },
  {
   "cell_type": "code",
   "execution_count": 78,
   "metadata": {
    "collapsed": false
   },
   "outputs": [
    {
     "data": {
      "image/png": "[encoded data removed]",
      "text/plain": [
       "<matplotlib.figure.Figure at 0x257caa32390>"
      ]
     },
     "metadata": {},
     "output_type": "display_data"
    },
    {
     "data": {
      "image/png": "[encoded data removed]",
      "text/plain": [
       "<matplotlib.figure.Figure at 0x257cad03a20>"
      ]
     },
     "metadata": {},
     "output_type": "display_data"
    },
    {
     "data": {
      "image/png": "[encoded data removed]",
      "text/plain": [
       "<matplotlib.figure.Figure at 0x257c8effcc0>"
      ]
     },
     "metadata": {},
     "output_type": "display_data"
    }
   ],
   "source": [
    "templateMatching(train_deskew_images,threshold_train,three_index)"
   ]
  },
  {
   "cell_type": "code",
   "execution_count": 79,
   "metadata": {
    "collapsed": false
   },
   "outputs": [
    {
     "data": {
      "image/png": "[encoded data removed]",
      "text/plain": [
       "<matplotlib.figure.Figure at 0x257c8ec7ba8>"
      ]
     },
     "metadata": {},
     "output_type": "display_data"
    },
    {
     "data": {
      "image/png": "[encoded data removed]",
      "text/plain": [
       "<matplotlib.figure.Figure at 0x257ca9e3a20>"
      ]
     },
     "metadata": {},
     "output_type": "display_data"
    },
    {
     "data": {
      "image/png": "[encoded data removed]",
      "text/plain": [
       "<matplotlib.figure.Figure at 0x257cae2fc50>"
      ]
     },
     "metadata": {},
     "output_type": "display_data"
    }
   ],
   "source": [
    "templateMatching(train_deskew_images,threshold_train,four_index)"
   ]
  },
  {
   "cell_type": "code",
   "execution_count": 80,
   "metadata": {
    "collapsed": false
   },
   "outputs": [
    {
     "data": {
      "image/png": "[encoded data removed]",
      "text/plain": [
       "<matplotlib.figure.Figure at 0x257caa4d978>"
      ]
     },
     "metadata": {},
     "output_type": "display_data"
    },
    {
     "data": {
      "image/png": "[encoded data removed]",
      "text/plain": [
       "<matplotlib.figure.Figure at 0x257cae9ce48>"
      ]
     },
     "metadata": {},
     "output_type": "display_data"
    },
    {
     "data": {
      "image/png": "[encoded data removed]",
      "text/plain": [
       "<matplotlib.figure.Figure at 0x257c8439898>"
      ]
     },
     "metadata": {},
     "output_type": "display_data"
    }
   ],
   "source": [
    "templateMatching(train_deskew_images,threshold_train,five_index)"
   ]
  },
  {
   "cell_type": "code",
   "execution_count": 81,
   "metadata": {
    "collapsed": false
   },
   "outputs": [
    {
     "data": {
      "image/png": "[encoded data removed]",
      "text/plain": [
       "<matplotlib.figure.Figure at 0x257c9be3dd8>"
      ]
     },
     "metadata": {},
     "output_type": "display_data"
    },
    {
     "data": {
      "image/png": "[encoded data removed]",
      "text/plain": [
       "<matplotlib.figure.Figure at 0x257c9e003c8>"
      ]
     },
     "metadata": {},
     "output_type": "display_data"
    },
    {
     "data": {
      "image/png": "[encoded data removed]",
      "text/plain": [
       "<matplotlib.figure.Figure at 0x257c901d208>"
      ]
     },
     "metadata": {},
     "output_type": "display_data"
    }
   ],
   "source": [
    "templateMatching(train_deskew_images,threshold_train,six_index)"
   ]
  },
  {
   "cell_type": "code",
   "execution_count": 82,
   "metadata": {
    "collapsed": false
   },
   "outputs": [
    {
     "data": {
      "image/png": "[encoded data removed]",
      "text/plain": [
       "<matplotlib.figure.Figure at 0x257ca0e0828>"
      ]
     },
     "metadata": {},
     "output_type": "display_data"
    },
    {
     "data": {
      "image/png": "[encoded data removed]",
      "text/plain": [
       "<matplotlib.figure.Figure at 0x257c8e01f28>"
      ]
     },
     "metadata": {},
     "output_type": "display_data"
    },
    {
     "data": {
      "image/png": "[encoded data removed]",
      "text/plain": [
       "<matplotlib.figure.Figure at 0x257c9f4d898>"
      ]
     },
     "metadata": {},
     "output_type": "display_data"
    }
   ],
   "source": [
    "templateMatching(train_deskew_images,threshold_train,seven_index)"
   ]
  },
  {
   "cell_type": "code",
   "execution_count": 83,
   "metadata": {
    "collapsed": false
   },
   "outputs": [
    {
     "data": {
      "image/png": "[encoded data removed]",
      "text/plain": [
       "<matplotlib.figure.Figure at 0x257cabd3c50>"
      ]
     },
     "metadata": {},
     "output_type": "display_data"
    },
    {
     "data": {
      "image/png": "[encoded data removed]",
      "text/plain": [
       "<matplotlib.figure.Figure at 0x257c8cffa20>"
      ]
     },
     "metadata": {},
     "output_type": "display_data"
    },
    {
     "data": {
      "image/png": "[encoded data removed]",
      "text/plain": [
       "<matplotlib.figure.Figure at 0x257cad49780>"
      ]
     },
     "metadata": {},
     "output_type": "display_data"
    }
   ],
   "source": [
    "templateMatching(train_deskew_images,threshold_train,eight_index)"
   ]
  },
  {
   "cell_type": "code",
   "execution_count": 84,
   "metadata": {
    "collapsed": false
   },
   "outputs": [
    {
     "data": {
      "image/png": "[encoded data removed]",
      "text/plain": [
       "<matplotlib.figure.Figure at 0x257c9bb1278>"
      ]
     },
     "metadata": {},
     "output_type": "display_data"
    },
    {
     "data": {
      "image/png": "[encoded data removed]",
      "text/plain": [
       "<matplotlib.figure.Figure at 0x257c8c845f8>"
      ]
     },
     "metadata": {},
     "output_type": "display_data"
    },
    {
     "data": {
      "image/png": "[encoded data removed]",
      "text/plain": [
       "<matplotlib.figure.Figure at 0x257ca07fdd8>"
      ]
     },
     "metadata": {},
     "output_type": "display_data"
    }
   ],
   "source": [
    "templateMatching(train_deskew_images,threshold_train,nine_index)"
   ]
  },
  {
   "cell_type": "code",
   "execution_count": 85,
   "metadata": {
    "collapsed": false
   },
   "outputs": [
    {
     "data": {
      "text/plain": [
       "'\\n\\ndef hog(img):\\n    gx = cv2.Sobel(img, cv2.CV_32F, 1, 0)\\n    gy = cv2.Sobel(img, cv2.CV_32F, 0, 1)\\n    mag, ang = cv2.cartToPolar(gx, gy)\\n    bins = np.int32(bin_n*ang/(2*np.pi))    # quantizing binvalues in (0...16)\\n    bin_cells = bins[:10,:10], bins[10:,:10], bins[:10,10:], bins[10:,10:]\\n    mag_cells = mag[:10,:10], mag[10:,:10], mag[:10,10:], mag[10:,10:]\\n    hists = [np.bincount(b.ravel(), m.ravel(), bin_n) for b, m in zip(bin_cells, mag_cells)]\\n    hist = np.hstack(hists)     # hist is a 196 bit vector\\n    return hist\\n    \\n    '"
      ]
     },
     "execution_count": 85,
     "metadata": {},
     "output_type": "execute_result"
    }
   ],
   "source": [
    "'''\n",
    "\n",
    "def hog(img):\n",
    "    gx = cv2.Sobel(img, cv2.CV_32F, 1, 0)\n",
    "    gy = cv2.Sobel(img, cv2.CV_32F, 0, 1)\n",
    "    mag, ang = cv2.cartToPolar(gx, gy)\n",
    "    bins = np.int32(bin_n*ang/(2*np.pi))    # quantizing binvalues in (0...16)\n",
    "    bin_cells = bins[:10,:10], bins[10:,:10], bins[:10,10:], bins[10:,10:]\n",
    "    mag_cells = mag[:10,:10], mag[10:,:10], mag[:10,10:], mag[10:,10:]\n",
    "    hists = [np.bincount(b.ravel(), m.ravel(), bin_n) for b, m in zip(bin_cells, mag_cells)]\n",
    "    hist = np.hstack(hists)     # hist is a 196 bit vector\n",
    "    return hist\n",
    "    \n",
    "    '''"
   ]
  },
  {
   "cell_type": "code",
   "execution_count": 86,
   "metadata": {
    "collapsed": false
   },
   "outputs": [],
   "source": [
    "# train_hog_data = [map(hog,row) for row in threshold_train]"
   ]
  },
  {
   "cell_type": "code",
   "execution_count": 87,
   "metadata": {
    "collapsed": true
   },
   "outputs": [],
   "source": [
    "# test_hog_data = [map(hog,row) for row in threshold_test]"
   ]
  },
  {
   "cell_type": "code",
   "execution_count": 88,
   "metadata": {
    "collapsed": false
   },
   "outputs": [],
   "source": [
    "# train_data = np.array(train_hog_data)"
   ]
  },
  {
   "cell_type": "code",
   "execution_count": 89,
   "metadata": {
    "collapsed": false
   },
   "outputs": [
    {
     "data": {
      "text/plain": [
       "'\\n\\n#SVM in OpenCV 3.1.0 for Python\\n# Set up SVM for OpenCV 3\\nsvm = cv2.ml.SVM_create()\\n# Set SVM type\\nsvm.setType(cv2.ml.SVM_C_SVC)\\n# Set SVM Kernel to Radial Basis Function (RBF) \\nsvm.setKernel(cv2.ml.SVM_RBF)\\n# Set parameter C\\nsvm.setC(2.67)\\n# Set parameter Gamma\\nsvm.setGamma(5.383)\\n\\n'"
      ]
     },
     "execution_count": 89,
     "metadata": {},
     "output_type": "execute_result"
    }
   ],
   "source": [
    "'''\n",
    "\n",
    "#SVM in OpenCV 3.1.0 for Python\n",
    "# Set up SVM for OpenCV 3\n",
    "svm = cv2.ml.SVM_create()\n",
    "# Set SVM type\n",
    "svm.setType(cv2.ml.SVM_C_SVC)\n",
    "# Set SVM Kernel to Radial Basis Function (RBF) \n",
    "svm.setKernel(cv2.ml.SVM_RBF)\n",
    "# Set parameter C\n",
    "svm.setC(2.67)\n",
    "# Set parameter Gamma\n",
    "svm.setGamma(5.383)\n",
    "\n",
    "'''"
   ]
  },
  {
   "cell_type": "code",
   "execution_count": 90,
   "metadata": {
    "collapsed": false
   },
   "outputs": [],
   "source": [
    "#training\n",
    "# SVM.train(train_data,cv2.ml.ROW_SAMPLE, train_lbl)\n",
    "\n"
   ]
  },
  {
   "cell_type": "code",
   "execution_count": 91,
   "metadata": {
    "collapsed": false
   },
   "outputs": [],
   "source": [
    "winSize = (14,14)\n",
    "blockSize = (7,7)\n",
    "blockStride = (7,7)\n",
    "cellSize = (7,7)\n",
    "nbins = 9\n",
    "derivAperture = 1\n",
    "winSigma = -1.\n",
    "histogramNormType = 0\n",
    "L2HysThreshold = 0.2\n",
    "gammaCorrection = 1\n",
    "nlevels = 64\n",
    "signedGradients = True\n",
    " \n",
    "hog = cv2.HOGDescriptor(winSize,blockSize,blockStride,cellSize,nbins,derivAperture,winSigma,\n",
    "                        histogramNormType,L2HysThreshold,gammaCorrection,nlevels, signedGradients)\n"
   ]
  },
  {
   "cell_type": "code",
   "execution_count": 92,
   "metadata": {
    "collapsed": false
   },
   "outputs": [],
   "source": [
    "# td = np.asarray(threshold_train[0])\n",
    "# train_hog_data = [hog.compute(for row in threshold_train)]\n",
    "train_hog_data = []\n",
    "for row in threshold_train:\n",
    "    descriptor = hog.compute(row)\n",
    "    train_hog_data.append(descriptor)\n",
    "    "
   ]
  },
  {
   "cell_type": "code",
   "execution_count": null,
   "metadata": {
    "collapsed": true
   },
   "outputs": [],
   "source": []
  },
  {
   "cell_type": "code",
   "execution_count": 93,
   "metadata": {
    "collapsed": true
   },
   "outputs": [],
   "source": [
    "test_hog_data = []\n",
    "for row in threshold_test:\n",
    "    descriptor = hog.compute(row)\n",
    "    test_hog_data.append(descriptor)"
   ]
  },
  {
   "cell_type": "code",
   "execution_count": null,
   "metadata": {
    "collapsed": true
   },
   "outputs": [],
   "source": []
  },
  {
   "cell_type": "code",
   "execution_count": 94,
   "metadata": {
    "collapsed": false
   },
   "outputs": [
    {
     "data": {
      "text/plain": [
       "array([[ 0.40744448],\n",
       "       [ 0.31316036],\n",
       "       [ 0.00686969],\n",
       "       [ 0.        ],\n",
       "       [ 0.40744448],\n",
       "       [ 0.40744448],\n",
       "       [ 0.40744448],\n",
       "       [ 0.260304  ],\n",
       "       [ 0.40744448],\n",
       "       [ 0.23125598],\n",
       "       [ 0.00109018],\n",
       "       [ 0.2183627 ],\n",
       "       [ 0.63194257],\n",
       "       [ 0.63194257],\n",
       "       [ 0.        ],\n",
       "       [ 0.06570479],\n",
       "       [ 0.10395411],\n",
       "       [ 0.28053766],\n",
       "       [ 0.46482316],\n",
       "       [ 0.05203735],\n",
       "       [ 0.17072932],\n",
       "       [ 0.10254453],\n",
       "       [ 0.46482316],\n",
       "       [ 0.12305347],\n",
       "       [ 0.27129525],\n",
       "       [ 0.46482316],\n",
       "       [ 0.46482316],\n",
       "       [ 0.52422392],\n",
       "       [ 0.52422392],\n",
       "       [ 0.52422392],\n",
       "       [ 0.        ],\n",
       "       [ 0.29451138],\n",
       "       [ 0.        ],\n",
       "       [ 0.17293866],\n",
       "       [ 0.05764622],\n",
       "       [ 0.22442074]], dtype=float32)"
      ]
     },
     "execution_count": 94,
     "metadata": {},
     "output_type": "execute_result"
    }
   ],
   "source": [
    "train_hog_data[1]"
   ]
  },
  {
   "cell_type": "code",
   "execution_count": 95,
   "metadata": {
    "collapsed": false
   },
   "outputs": [
    {
     "data": {
      "text/plain": [
       "array([[ 0.40744448],\n",
       "       [ 0.31316036],\n",
       "       [ 0.00686969],\n",
       "       [ 0.        ],\n",
       "       [ 0.40744448],\n",
       "       [ 0.40744448],\n",
       "       [ 0.40744448],\n",
       "       [ 0.260304  ],\n",
       "       [ 0.40744448],\n",
       "       [ 0.23125598],\n",
       "       [ 0.00109018],\n",
       "       [ 0.2183627 ],\n",
       "       [ 0.63194257],\n",
       "       [ 0.63194257],\n",
       "       [ 0.        ],\n",
       "       [ 0.06570479],\n",
       "       [ 0.10395411],\n",
       "       [ 0.28053766],\n",
       "       [ 0.46482316],\n",
       "       [ 0.05203735],\n",
       "       [ 0.17072932],\n",
       "       [ 0.10254453],\n",
       "       [ 0.46482316],\n",
       "       [ 0.12305347],\n",
       "       [ 0.27129525],\n",
       "       [ 0.46482316],\n",
       "       [ 0.46482316],\n",
       "       [ 0.52422392],\n",
       "       [ 0.52422392],\n",
       "       [ 0.52422392],\n",
       "       [ 0.        ],\n",
       "       [ 0.29451138],\n",
       "       [ 0.        ],\n",
       "       [ 0.17293866],\n",
       "       [ 0.05764622],\n",
       "       [ 0.22442074]], dtype=float32)"
      ]
     },
     "execution_count": 95,
     "metadata": {},
     "output_type": "execute_result"
    }
   ],
   "source": [
    "train_hog_data[1]"
   ]
  },
  {
   "cell_type": "code",
   "execution_count": 96,
   "metadata": {
    "collapsed": false
   },
   "outputs": [
    {
     "data": {
      "text/plain": [
       "array([[ 0.53841144],\n",
       "       [ 0.53841144],\n",
       "       [ 0.        ],\n",
       "       [ 0.        ],\n",
       "       [ 0.22836007],\n",
       "       [ 0.        ],\n",
       "       [ 0.37996849],\n",
       "       [ 0.12665616],\n",
       "       [ 0.44975927],\n",
       "       [ 0.3252683 ],\n",
       "       [ 0.46452114],\n",
       "       [ 0.36731932],\n",
       "       [ 0.28695413],\n",
       "       [ 0.38180977],\n",
       "       [ 0.46452114],\n",
       "       [ 0.29973176],\n",
       "       [ 0.        ],\n",
       "       [ 0.07153341],\n",
       "       [ 0.08358017],\n",
       "       [ 0.09470209],\n",
       "       [ 0.        ],\n",
       "       [ 0.        ],\n",
       "       [ 0.63225508],\n",
       "       [ 0.63225508],\n",
       "       [ 0.42133996],\n",
       "       [ 0.        ],\n",
       "       [ 0.02670106],\n",
       "       [ 0.        ],\n",
       "       [ 0.70453447],\n",
       "       [ 0.70453447],\n",
       "       [ 0.        ],\n",
       "       [ 0.01514847],\n",
       "       [ 0.        ],\n",
       "       [ 0.        ],\n",
       "       [ 0.        ],\n",
       "       [ 0.        ]], dtype=float32)"
      ]
     },
     "execution_count": 96,
     "metadata": {},
     "output_type": "execute_result"
    }
   ],
   "source": [
    "test_hog_data[1]"
   ]
  },
  {
   "cell_type": "code",
   "execution_count": 97,
   "metadata": {
    "collapsed": true
   },
   "outputs": [],
   "source": [
    "trainData = np.float32(train_hog_data)\n",
    "testData = np.float32(test_hog_data)"
   ]
  },
  {
   "cell_type": "code",
   "execution_count": 98,
   "metadata": {
    "collapsed": true
   },
   "outputs": [],
   "source": [
    "# trainData = np.array(train_hog_data)\n",
    "responses = np.float32(np.repeat(np.arange(10),250)[:,np.newaxis])"
   ]
  },
  {
   "cell_type": "code",
   "execution_count": 99,
   "metadata": {
    "collapsed": false
   },
   "outputs": [
    {
     "data": {
      "text/plain": [
       "True"
      ]
     },
     "execution_count": 99,
     "metadata": {},
     "output_type": "execute_result"
    }
   ],
   "source": [
    "# Set up SVM for OpenCV 3\n",
    "svm = cv2.ml.SVM_create()\n",
    "# Set SVM type\n",
    "svm.setType(cv2.ml.SVM_C_SVC)\n",
    "# Set SVM Kernel to Radial Basis Function (RBF) \n",
    "svm.setKernel(cv2.ml.SVM_RBF)\n",
    "# Set parameter C\n",
    "svm.setC(12.5)\n",
    "# Set parameter Gamma\n",
    "svm.setGamma(0.5)\n",
    " \n",
    "# Train SVM on training data  \n",
    "svm.train(trainData,cv2.ml.ROW_SAMPLE, train_lbl.astype(int))"
   ]
  },
  {
   "cell_type": "code",
   "execution_count": 100,
   "metadata": {
    "collapsed": false
   },
   "outputs": [],
   "source": [
    "svm.save(\"digits_svm_model.dat\")"
   ]
  },
  {
   "cell_type": "code",
   "execution_count": 101,
   "metadata": {
    "collapsed": false
   },
   "outputs": [],
   "source": [
    "myarray = np.fromfile('digits_svm_model.dat',dtype=float)"
   ]
  },
  {
   "cell_type": "code",
   "execution_count": 102,
   "metadata": {
    "collapsed": false
   },
   "outputs": [
    {
     "data": {
      "text/plain": [
       "array([  3.46409046e-086,   2.96501240e-260,   6.94143838e+218, ...,\n",
       "         3.20620493e-057,   2.58392995e-057,   3.86209467e+140])"
      ]
     },
     "execution_count": 102,
     "metadata": {},
     "output_type": "execute_result"
    }
   ],
   "source": [
    "myarray"
   ]
  },
  {
   "cell_type": "code",
   "execution_count": 103,
   "metadata": {
    "collapsed": false
   },
   "outputs": [],
   "source": [
    "# Test on a held out test set\n",
    "testResponse = svm.predict(testData)[1].ravel()"
   ]
  },
  {
   "cell_type": "code",
   "execution_count": 104,
   "metadata": {
    "collapsed": false
   },
   "outputs": [
    {
     "data": {
      "text/plain": [
       "array([ 7.,  2.,  1., ...,  4.,  5.,  6.], dtype=float32)"
      ]
     },
     "execution_count": 104,
     "metadata": {},
     "output_type": "execute_result"
    }
   ],
   "source": [
    "testResponse"
   ]
  },
  {
   "cell_type": "code",
   "execution_count": 105,
   "metadata": {
    "collapsed": false
   },
   "outputs": [
    {
     "data": {
      "text/plain": [
       "10000"
      ]
     },
     "execution_count": 105,
     "metadata": {},
     "output_type": "execute_result"
    }
   ],
   "source": [
    "testResponse.size\n"
   ]
  },
  {
   "cell_type": "code",
   "execution_count": 106,
   "metadata": {
    "collapsed": false
   },
   "outputs": [
    {
     "data": {
      "text/plain": [
       "(10000,)"
      ]
     },
     "execution_count": 106,
     "metadata": {},
     "output_type": "execute_result"
    }
   ],
   "source": [
    "testResponse.shape"
   ]
  },
  {
   "cell_type": "code",
   "execution_count": 107,
   "metadata": {
    "collapsed": false
   },
   "outputs": [
    {
     "name": "stdout",
     "output_type": "stream",
     "text": [
      "95.52\n"
     ]
    }
   ],
   "source": [
    "mask = testResponse==test_lbl\n",
    "correct = np.count_nonzero(mask)\n",
    "print (correct*100.0/testResponse.size)"
   ]
  },
  {
   "cell_type": "code",
   "execution_count": 108,
   "metadata": {
    "collapsed": false
   },
   "outputs": [],
   "source": [
    "#predict\n",
    "# output = SVM.predict(samples)[1].ravel()\n",
    "reasult = testResponse.astype(int)"
   ]
  },
  {
   "cell_type": "code",
   "execution_count": 110,
   "metadata": {
    "collapsed": false
   },
   "outputs": [],
   "source": [
    "# svm_params = dict( kernel_type = cv2.SVM_LINEAR, svm_type = cv2.SVM_C_SVC,\n",
    "#                         C=2.67, gamma=5.383 )\n",
    "# from sklearn.metrics import confusion_matrix\n",
    "# cm = confusion_matrix(test_lbl, reasult)"
   ]
  },
  {
   "cell_type": "code",
   "execution_count": 111,
   "metadata": {
    "collapsed": false,
    "scrolled": true
   },
   "outputs": [],
   "source": [
    "# print(cm)"
   ]
  },
  {
   "cell_type": "code",
   "execution_count": 112,
   "metadata": {
    "collapsed": false
   },
   "outputs": [],
   "source": [
    "from pandas_ml import ConfusionMatrix"
   ]
  },
  {
   "cell_type": "code",
   "execution_count": 113,
   "metadata": {
    "collapsed": false
   },
   "outputs": [
    {
     "name": "stdout",
     "output_type": "stream",
     "text": [
      "Confusion matrix:\n",
      "Predicted     0     1     2     3    4    5    6     7    8     9  __all__\n",
      "Actual                                                                    \n",
      "0           970     0     2     1    0    1    4     0    1     1      980\n",
      "1             0  1124     3     2    0    1    3     1    1     0     1135\n",
      "2             8     6   982     5    2    1    0    20    7     1     1032\n",
      "3             6     1     4   970    0   18    0     4    5     2     1010\n",
      "4             1     0     4     0  876    1    2     4    5    89      982\n",
      "5             6     1     0    15    1  856    4     2    5     2      892\n",
      "6             8     3     7     2    4    5  926     0    3     0      958\n",
      "7             2     7    16     3    5    0    0   981    3    11     1028\n",
      "8             4     1     7     2    3    3    5     6  941     2      974\n",
      "9             5     3     3    10   38    3    1    12    8   926     1009\n",
      "__all__    1010  1146  1028  1010  929  889  945  1030  979  1034    10000\n"
     ]
    }
   ],
   "source": [
    "confusion_matrix = ConfusionMatrix(test_lbl, reasult)\n",
    "print(\"Confusion matrix:\\n%s\" % confusion_matrix)"
   ]
  },
  {
   "cell_type": "code",
   "execution_count": 114,
   "metadata": {
    "collapsed": false
   },
   "outputs": [
    {
     "name": "stdout",
     "output_type": "stream",
     "text": [
      "Confusion Matrix:\n",
      "\n",
      "Predicted     0     1     2     3    4    5    6     7    8     9  __all__\n",
      "Actual                                                                    \n",
      "0           970     0     2     1    0    1    4     0    1     1      980\n",
      "1             0  1124     3     2    0    1    3     1    1     0     1135\n",
      "2             8     6   982     5    2    1    0    20    7     1     1032\n",
      "3             6     1     4   970    0   18    0     4    5     2     1010\n",
      "4             1     0     4     0  876    1    2     4    5    89      982\n",
      "5             6     1     0    15    1  856    4     2    5     2      892\n",
      "6             8     3     7     2    4    5  926     0    3     0      958\n",
      "7             2     7    16     3    5    0    0   981    3    11     1028\n",
      "8             4     1     7     2    3    3    5     6  941     2      974\n",
      "9             5     3     3    10   38    3    1    12    8   926     1009\n",
      "__all__    1010  1146  1028  1010  929  889  945  1030  979  1034    10000\n",
      "\n",
      "\n",
      "Overall Statistics:\n",
      "\n",
      "Accuracy: 0.9552\n",
      "95% CI: (0.95096088935556899, 0.95917136920971058)\n",
      "No Information Rate: ToDo\n",
      "P-Value [Acc > NIR]: 0.0\n",
      "Kappa: 0.950201321163\n",
      "Mcnemar's Test P-Value: ToDo\n",
      "\n",
      "\n",
      "Class Statistics:\n",
      "\n",
      "Classes                                         0           1           2  \\\n",
      "Population                                  10000       10000       10000   \n",
      "P: Condition positive                         980        1135        1032   \n",
      "N: Condition negative                        9020        8865        8968   \n",
      "Test outcome positive                        1010        1146        1028   \n",
      "Test outcome negative                        8990        8854        8972   \n",
      "TP: True Positive                             970        1124         982   \n",
      "TN: True Negative                            8980        8843        8922   \n",
      "FP: False Positive                             40          22          46   \n",
      "FN: False Negative                             10          11          50   \n",
      "TPR: (Sensitivity, hit rate, recall)     0.989796    0.990308     0.95155   \n",
      "TNR=SPC: (Specificity)                   0.995565    0.997518    0.994871   \n",
      "PPV: Pos Pred Value (Precision)          0.960396    0.980803    0.955253   \n",
      "NPV: Neg Pred Value                      0.998888    0.998758    0.994427   \n",
      "FPR: False-out                         0.00443459  0.00248167  0.00512935   \n",
      "FDR: False Discovery Rate                0.039604   0.0191972   0.0447471   \n",
      "FNR: Miss Rate                          0.0102041  0.00969163   0.0484496   \n",
      "ACC: Accuracy                               0.995      0.9967      0.9904   \n",
      "F1 score                                 0.974874    0.985533    0.953398   \n",
      "MCC: Matthews correlation coefficient    0.972235    0.983685    0.948049   \n",
      "Informedness                             0.985361    0.987827    0.946421   \n",
      "Markedness                               0.959284     0.97956     0.94968   \n",
      "Prevalence                                  0.098      0.1135      0.1032   \n",
      "LR+: Positive likelihood ratio            223.199     399.049     185.511   \n",
      "LR-: Negative likelihood ratio          0.0102495  0.00971574   0.0486994   \n",
      "DOR: Diagnostic odds ratio                21776.5     41072.4     3809.31   \n",
      "FOR: False omission rate               0.00111235  0.00124238  0.00557289   \n",
      "\n",
      "Classes                                         3           4           5  \\\n",
      "Population                                  10000       10000       10000   \n",
      "P: Condition positive                        1010         982         892   \n",
      "N: Condition negative                        8990        9018        9108   \n",
      "Test outcome positive                        1010         929         889   \n",
      "Test outcome negative                        8990        9071        9111   \n",
      "TP: True Positive                             970         876         856   \n",
      "TN: True Negative                            8950        8965        9075   \n",
      "FP: False Positive                             40          53          33   \n",
      "FN: False Negative                             40         106          36   \n",
      "TPR: (Sensitivity, hit rate, recall)     0.960396    0.892057    0.959641   \n",
      "TNR=SPC: (Specificity)                   0.995551    0.994123    0.996377   \n",
      "PPV: Pos Pred Value (Precision)          0.960396    0.942949     0.96288   \n",
      "NPV: Neg Pred Value                      0.995551    0.988314    0.996049   \n",
      "FPR: False-out                         0.00444939  0.00587713  0.00362319   \n",
      "FDR: False Discovery Rate                0.039604   0.0570506   0.0371204   \n",
      "FNR: Miss Rate                           0.039604    0.107943   0.0403587   \n",
      "ACC: Accuracy                               0.992      0.9841      0.9931   \n",
      "F1 score                                 0.960396    0.916797    0.961258   \n",
      "MCC: Matthews correlation coefficient    0.955947    0.908442    0.957472   \n",
      "Informedness                             0.955947     0.88618    0.956018   \n",
      "Markedness                               0.955947    0.931264    0.958928   \n",
      "Prevalence                                  0.101      0.0982      0.0892   \n",
      "LR+: Positive likelihood ratio            215.849     151.784     264.861   \n",
      "LR-: Negative likelihood ratio           0.039781    0.108581   0.0405055   \n",
      "DOR: Diagnostic odds ratio                5425.94     1397.89     6538.89   \n",
      "FOR: False omission rate               0.00444939   0.0116856  0.00395127   \n",
      "\n",
      "Classes                                         6           7           8  \\\n",
      "Population                                  10000       10000       10000   \n",
      "P: Condition positive                         958        1028         974   \n",
      "N: Condition negative                        9042        8972        9026   \n",
      "Test outcome positive                         945        1030         979   \n",
      "Test outcome negative                        9055        8970        9021   \n",
      "TP: True Positive                             926         981         941   \n",
      "TN: True Negative                            9023        8923        8988   \n",
      "FP: False Positive                             19          49          38   \n",
      "FN: False Negative                             32          47          33   \n",
      "TPR: (Sensitivity, hit rate, recall)     0.966597     0.95428    0.966119   \n",
      "TNR=SPC: (Specificity)                   0.997899    0.994539     0.99579   \n",
      "PPV: Pos Pred Value (Precision)          0.979894    0.952427    0.961185   \n",
      "NPV: Neg Pred Value                      0.996466     0.99476    0.996342   \n",
      "FPR: False-out                         0.00210131  0.00546144  0.00421006   \n",
      "FDR: False Discovery Rate               0.0201058   0.0475728   0.0388151   \n",
      "FNR: Miss Rate                          0.0334029   0.0457198   0.0338809   \n",
      "ACC: Accuracy                              0.9949      0.9904      0.9929   \n",
      "F1 score                                   0.9732    0.953353    0.963646   \n",
      "MCC: Matthews correlation coefficient     0.97041    0.948003    0.959715   \n",
      "Informedness                             0.964496    0.948819    0.961909   \n",
      "Markedness                                0.97636    0.947187    0.957527   \n",
      "Prevalence                                 0.0958      0.1028      0.0974   \n",
      "LR+: Positive likelihood ratio            459.998     174.731     229.479   \n",
      "LR-: Negative likelihood ratio          0.0334733   0.0459709   0.0340241   \n",
      "DOR: Diagnostic odds ratio                13742.3      3800.9     6744.58   \n",
      "FOR: False omission rate               0.00353396  0.00523969  0.00365813   \n",
      "\n",
      "Classes                                         9  \n",
      "Population                                  10000  \n",
      "P: Condition positive                        1009  \n",
      "N: Condition negative                        8991  \n",
      "Test outcome positive                        1034  \n",
      "Test outcome negative                        8966  \n",
      "TP: True Positive                             926  \n",
      "TN: True Negative                            8883  \n",
      "FP: False Positive                            108  \n",
      "FN: False Negative                             83  \n",
      "TPR: (Sensitivity, hit rate, recall)      0.91774  \n",
      "TNR=SPC: (Specificity)                   0.987988  \n",
      "PPV: Pos Pred Value (Precision)          0.895551  \n",
      "NPV: Neg Pred Value                      0.990743  \n",
      "FPR: False-out                           0.012012  \n",
      "FDR: False Discovery Rate                0.104449  \n",
      "FNR: Miss Rate                          0.0822597  \n",
      "ACC: Accuracy                              0.9809  \n",
      "F1 score                                  0.90651  \n",
      "MCC: Matthews correlation coefficient    0.895959  \n",
      "Informedness                             0.905728  \n",
      "Markedness                               0.886294  \n",
      "Prevalence                                 0.1009  \n",
      "LR+: Positive likelihood ratio            76.4019  \n",
      "LR-: Negative likelihood ratio          0.0832598  \n",
      "DOR: Diagnostic odds ratio                917.633  \n",
      "FOR: False omission rate               0.00925719  \n"
     ]
    }
   ],
   "source": [
    "confusion_matrix.print_stats()"
   ]
  },
  {
   "cell_type": "code",
   "execution_count": 115,
   "metadata": {
    "collapsed": false
   },
   "outputs": [
    {
     "data": {
      "text/html": [
       "<div>\n",
       "<table border=\"1\" class=\"dataframe\">\n",
       "  <thead>\n",
       "    <tr style=\"text-align: right;\">\n",
       "      <th></th>\n",
       "      <th>precision</th>\n",
       "      <th>recall</th>\n",
       "      <th>F1_score</th>\n",
       "      <th>support</th>\n",
       "    </tr>\n",
       "    <tr>\n",
       "      <th>Classes</th>\n",
       "      <th></th>\n",
       "      <th></th>\n",
       "      <th></th>\n",
       "      <th></th>\n",
       "    </tr>\n",
       "  </thead>\n",
       "  <tbody>\n",
       "    <tr>\n",
       "      <th>0</th>\n",
       "      <td>0.960396</td>\n",
       "      <td>0.989796</td>\n",
       "      <td>0.974874</td>\n",
       "      <td>980</td>\n",
       "    </tr>\n",
       "    <tr>\n",
       "      <th>1</th>\n",
       "      <td>0.980803</td>\n",
       "      <td>0.990308</td>\n",
       "      <td>0.985533</td>\n",
       "      <td>1135</td>\n",
       "    </tr>\n",
       "    <tr>\n",
       "      <th>2</th>\n",
       "      <td>0.955253</td>\n",
       "      <td>0.95155</td>\n",
       "      <td>0.953398</td>\n",
       "      <td>1032</td>\n",
       "    </tr>\n",
       "    <tr>\n",
       "      <th>3</th>\n",
       "      <td>0.960396</td>\n",
       "      <td>0.960396</td>\n",
       "      <td>0.960396</td>\n",
       "      <td>1010</td>\n",
       "    </tr>\n",
       "    <tr>\n",
       "      <th>4</th>\n",
       "      <td>0.942949</td>\n",
       "      <td>0.892057</td>\n",
       "      <td>0.916797</td>\n",
       "      <td>982</td>\n",
       "    </tr>\n",
       "    <tr>\n",
       "      <th>5</th>\n",
       "      <td>0.96288</td>\n",
       "      <td>0.959641</td>\n",
       "      <td>0.961258</td>\n",
       "      <td>892</td>\n",
       "    </tr>\n",
       "    <tr>\n",
       "      <th>6</th>\n",
       "      <td>0.979894</td>\n",
       "      <td>0.966597</td>\n",
       "      <td>0.9732</td>\n",
       "      <td>958</td>\n",
       "    </tr>\n",
       "    <tr>\n",
       "      <th>7</th>\n",
       "      <td>0.952427</td>\n",
       "      <td>0.95428</td>\n",
       "      <td>0.953353</td>\n",
       "      <td>1028</td>\n",
       "    </tr>\n",
       "    <tr>\n",
       "      <th>8</th>\n",
       "      <td>0.961185</td>\n",
       "      <td>0.966119</td>\n",
       "      <td>0.963646</td>\n",
       "      <td>974</td>\n",
       "    </tr>\n",
       "    <tr>\n",
       "      <th>9</th>\n",
       "      <td>0.895551</td>\n",
       "      <td>0.91774</td>\n",
       "      <td>0.90651</td>\n",
       "      <td>1009</td>\n",
       "    </tr>\n",
       "    <tr>\n",
       "      <th>__avg / total__</th>\n",
       "      <td>0.955272</td>\n",
       "      <td>0.9552</td>\n",
       "      <td>0.955123</td>\n",
       "      <td>10000</td>\n",
       "    </tr>\n",
       "  </tbody>\n",
       "</table>\n",
       "</div>"
      ],
      "text/plain": [
       "                precision    recall  F1_score support\n",
       "Classes                                              \n",
       "0                0.960396  0.989796  0.974874     980\n",
       "1                0.980803  0.990308  0.985533    1135\n",
       "2                0.955253   0.95155  0.953398    1032\n",
       "3                0.960396  0.960396  0.960396    1010\n",
       "4                0.942949  0.892057  0.916797     982\n",
       "5                 0.96288  0.959641  0.961258     892\n",
       "6                0.979894  0.966597    0.9732     958\n",
       "7                0.952427   0.95428  0.953353    1028\n",
       "8                0.961185  0.966119  0.963646     974\n",
       "9                0.895551   0.91774   0.90651    1009\n",
       "__avg / total__  0.955272    0.9552  0.955123   10000"
      ]
     },
     "execution_count": 115,
     "metadata": {},
     "output_type": "execute_result"
    }
   ],
   "source": [
    "confusion_matrix.classification_report"
   ]
  },
  {
   "cell_type": "code",
   "execution_count": 116,
   "metadata": {
    "collapsed": false
   },
   "outputs": [
    {
     "data": {
      "text/plain": [
       "Predicted\n",
       "0    1010\n",
       "1    1146\n",
       "2    1028\n",
       "3    1010\n",
       "4     929\n",
       "5     889\n",
       "6     945\n",
       "7    1030\n",
       "8     979\n",
       "9    1034\n",
       "Name: Predicted, dtype: int64"
      ]
     },
     "execution_count": 116,
     "metadata": {},
     "output_type": "execute_result"
    }
   ],
   "source": [
    "confusion_matrix.pred"
   ]
  },
  {
   "cell_type": "code",
   "execution_count": 117,
   "metadata": {
    "collapsed": false
   },
   "outputs": [
    {
     "data": {
      "text/html": [
       "<div>\n",
       "<table border=\"1\" class=\"dataframe\">\n",
       "  <thead>\n",
       "    <tr style=\"text-align: right;\">\n",
       "      <th>Classes</th>\n",
       "      <th>0</th>\n",
       "      <th>1</th>\n",
       "      <th>2</th>\n",
       "      <th>3</th>\n",
       "      <th>4</th>\n",
       "      <th>5</th>\n",
       "      <th>6</th>\n",
       "      <th>7</th>\n",
       "      <th>8</th>\n",
       "      <th>9</th>\n",
       "    </tr>\n",
       "  </thead>\n",
       "  <tbody>\n",
       "    <tr>\n",
       "      <th>Population</th>\n",
       "      <td>10000</td>\n",
       "      <td>10000</td>\n",
       "      <td>10000</td>\n",
       "      <td>10000</td>\n",
       "      <td>10000</td>\n",
       "      <td>10000</td>\n",
       "      <td>10000</td>\n",
       "      <td>10000</td>\n",
       "      <td>10000</td>\n",
       "      <td>10000</td>\n",
       "    </tr>\n",
       "    <tr>\n",
       "      <th>P: Condition positive</th>\n",
       "      <td>980</td>\n",
       "      <td>1135</td>\n",
       "      <td>1032</td>\n",
       "      <td>1010</td>\n",
       "      <td>982</td>\n",
       "      <td>892</td>\n",
       "      <td>958</td>\n",
       "      <td>1028</td>\n",
       "      <td>974</td>\n",
       "      <td>1009</td>\n",
       "    </tr>\n",
       "    <tr>\n",
       "      <th>N: Condition negative</th>\n",
       "      <td>9020</td>\n",
       "      <td>8865</td>\n",
       "      <td>8968</td>\n",
       "      <td>8990</td>\n",
       "      <td>9018</td>\n",
       "      <td>9108</td>\n",
       "      <td>9042</td>\n",
       "      <td>8972</td>\n",
       "      <td>9026</td>\n",
       "      <td>8991</td>\n",
       "    </tr>\n",
       "    <tr>\n",
       "      <th>Test outcome positive</th>\n",
       "      <td>1010</td>\n",
       "      <td>1146</td>\n",
       "      <td>1028</td>\n",
       "      <td>1010</td>\n",
       "      <td>929</td>\n",
       "      <td>889</td>\n",
       "      <td>945</td>\n",
       "      <td>1030</td>\n",
       "      <td>979</td>\n",
       "      <td>1034</td>\n",
       "    </tr>\n",
       "    <tr>\n",
       "      <th>Test outcome negative</th>\n",
       "      <td>8990</td>\n",
       "      <td>8854</td>\n",
       "      <td>8972</td>\n",
       "      <td>8990</td>\n",
       "      <td>9071</td>\n",
       "      <td>9111</td>\n",
       "      <td>9055</td>\n",
       "      <td>8970</td>\n",
       "      <td>9021</td>\n",
       "      <td>8966</td>\n",
       "    </tr>\n",
       "    <tr>\n",
       "      <th>TP: True Positive</th>\n",
       "      <td>970</td>\n",
       "      <td>1124</td>\n",
       "      <td>982</td>\n",
       "      <td>970</td>\n",
       "      <td>876</td>\n",
       "      <td>856</td>\n",
       "      <td>926</td>\n",
       "      <td>981</td>\n",
       "      <td>941</td>\n",
       "      <td>926</td>\n",
       "    </tr>\n",
       "    <tr>\n",
       "      <th>TN: True Negative</th>\n",
       "      <td>8980</td>\n",
       "      <td>8843</td>\n",
       "      <td>8922</td>\n",
       "      <td>8950</td>\n",
       "      <td>8965</td>\n",
       "      <td>9075</td>\n",
       "      <td>9023</td>\n",
       "      <td>8923</td>\n",
       "      <td>8988</td>\n",
       "      <td>8883</td>\n",
       "    </tr>\n",
       "    <tr>\n",
       "      <th>FP: False Positive</th>\n",
       "      <td>40</td>\n",
       "      <td>22</td>\n",
       "      <td>46</td>\n",
       "      <td>40</td>\n",
       "      <td>53</td>\n",
       "      <td>33</td>\n",
       "      <td>19</td>\n",
       "      <td>49</td>\n",
       "      <td>38</td>\n",
       "      <td>108</td>\n",
       "    </tr>\n",
       "    <tr>\n",
       "      <th>FN: False Negative</th>\n",
       "      <td>10</td>\n",
       "      <td>11</td>\n",
       "      <td>50</td>\n",
       "      <td>40</td>\n",
       "      <td>106</td>\n",
       "      <td>36</td>\n",
       "      <td>32</td>\n",
       "      <td>47</td>\n",
       "      <td>33</td>\n",
       "      <td>83</td>\n",
       "    </tr>\n",
       "    <tr>\n",
       "      <th>TPR: (Sensitivity, hit rate, recall)</th>\n",
       "      <td>0.989796</td>\n",
       "      <td>0.990308</td>\n",
       "      <td>0.95155</td>\n",
       "      <td>0.960396</td>\n",
       "      <td>0.892057</td>\n",
       "      <td>0.959641</td>\n",
       "      <td>0.966597</td>\n",
       "      <td>0.95428</td>\n",
       "      <td>0.966119</td>\n",
       "      <td>0.91774</td>\n",
       "    </tr>\n",
       "    <tr>\n",
       "      <th>TNR=SPC: (Specificity)</th>\n",
       "      <td>0.995565</td>\n",
       "      <td>0.997518</td>\n",
       "      <td>0.994871</td>\n",
       "      <td>0.995551</td>\n",
       "      <td>0.994123</td>\n",
       "      <td>0.996377</td>\n",
       "      <td>0.997899</td>\n",
       "      <td>0.994539</td>\n",
       "      <td>0.99579</td>\n",
       "      <td>0.987988</td>\n",
       "    </tr>\n",
       "    <tr>\n",
       "      <th>PPV: Pos Pred Value (Precision)</th>\n",
       "      <td>0.960396</td>\n",
       "      <td>0.980803</td>\n",
       "      <td>0.955253</td>\n",
       "      <td>0.960396</td>\n",
       "      <td>0.942949</td>\n",
       "      <td>0.96288</td>\n",
       "      <td>0.979894</td>\n",
       "      <td>0.952427</td>\n",
       "      <td>0.961185</td>\n",
       "      <td>0.895551</td>\n",
       "    </tr>\n",
       "    <tr>\n",
       "      <th>NPV: Neg Pred Value</th>\n",
       "      <td>0.998888</td>\n",
       "      <td>0.998758</td>\n",
       "      <td>0.994427</td>\n",
       "      <td>0.995551</td>\n",
       "      <td>0.988314</td>\n",
       "      <td>0.996049</td>\n",
       "      <td>0.996466</td>\n",
       "      <td>0.99476</td>\n",
       "      <td>0.996342</td>\n",
       "      <td>0.990743</td>\n",
       "    </tr>\n",
       "    <tr>\n",
       "      <th>FPR: False-out</th>\n",
       "      <td>0.00443459</td>\n",
       "      <td>0.00248167</td>\n",
       "      <td>0.00512935</td>\n",
       "      <td>0.00444939</td>\n",
       "      <td>0.00587713</td>\n",
       "      <td>0.00362319</td>\n",
       "      <td>0.00210131</td>\n",
       "      <td>0.00546144</td>\n",
       "      <td>0.00421006</td>\n",
       "      <td>0.012012</td>\n",
       "    </tr>\n",
       "    <tr>\n",
       "      <th>FDR: False Discovery Rate</th>\n",
       "      <td>0.039604</td>\n",
       "      <td>0.0191972</td>\n",
       "      <td>0.0447471</td>\n",
       "      <td>0.039604</td>\n",
       "      <td>0.0570506</td>\n",
       "      <td>0.0371204</td>\n",
       "      <td>0.0201058</td>\n",
       "      <td>0.0475728</td>\n",
       "      <td>0.0388151</td>\n",
       "      <td>0.104449</td>\n",
       "    </tr>\n",
       "    <tr>\n",
       "      <th>FNR: Miss Rate</th>\n",
       "      <td>0.0102041</td>\n",
       "      <td>0.00969163</td>\n",
       "      <td>0.0484496</td>\n",
       "      <td>0.039604</td>\n",
       "      <td>0.107943</td>\n",
       "      <td>0.0403587</td>\n",
       "      <td>0.0334029</td>\n",
       "      <td>0.0457198</td>\n",
       "      <td>0.0338809</td>\n",
       "      <td>0.0822597</td>\n",
       "    </tr>\n",
       "    <tr>\n",
       "      <th>ACC: Accuracy</th>\n",
       "      <td>0.995</td>\n",
       "      <td>0.9967</td>\n",
       "      <td>0.9904</td>\n",
       "      <td>0.992</td>\n",
       "      <td>0.9841</td>\n",
       "      <td>0.9931</td>\n",
       "      <td>0.9949</td>\n",
       "      <td>0.9904</td>\n",
       "      <td>0.9929</td>\n",
       "      <td>0.9809</td>\n",
       "    </tr>\n",
       "    <tr>\n",
       "      <th>F1 score</th>\n",
       "      <td>0.974874</td>\n",
       "      <td>0.985533</td>\n",
       "      <td>0.953398</td>\n",
       "      <td>0.960396</td>\n",
       "      <td>0.916797</td>\n",
       "      <td>0.961258</td>\n",
       "      <td>0.9732</td>\n",
       "      <td>0.953353</td>\n",
       "      <td>0.963646</td>\n",
       "      <td>0.90651</td>\n",
       "    </tr>\n",
       "    <tr>\n",
       "      <th>MCC: Matthews correlation coefficient</th>\n",
       "      <td>0.972235</td>\n",
       "      <td>0.983685</td>\n",
       "      <td>0.948049</td>\n",
       "      <td>0.955947</td>\n",
       "      <td>0.908442</td>\n",
       "      <td>0.957472</td>\n",
       "      <td>0.97041</td>\n",
       "      <td>0.948003</td>\n",
       "      <td>0.959715</td>\n",
       "      <td>0.895959</td>\n",
       "    </tr>\n",
       "    <tr>\n",
       "      <th>Informedness</th>\n",
       "      <td>0.985361</td>\n",
       "      <td>0.987827</td>\n",
       "      <td>0.946421</td>\n",
       "      <td>0.955947</td>\n",
       "      <td>0.88618</td>\n",
       "      <td>0.956018</td>\n",
       "      <td>0.964496</td>\n",
       "      <td>0.948819</td>\n",
       "      <td>0.961909</td>\n",
       "      <td>0.905728</td>\n",
       "    </tr>\n",
       "    <tr>\n",
       "      <th>Markedness</th>\n",
       "      <td>0.959284</td>\n",
       "      <td>0.97956</td>\n",
       "      <td>0.94968</td>\n",
       "      <td>0.955947</td>\n",
       "      <td>0.931264</td>\n",
       "      <td>0.958928</td>\n",
       "      <td>0.97636</td>\n",
       "      <td>0.947187</td>\n",
       "      <td>0.957527</td>\n",
       "      <td>0.886294</td>\n",
       "    </tr>\n",
       "    <tr>\n",
       "      <th>Prevalence</th>\n",
       "      <td>0.098</td>\n",
       "      <td>0.1135</td>\n",
       "      <td>0.1032</td>\n",
       "      <td>0.101</td>\n",
       "      <td>0.0982</td>\n",
       "      <td>0.0892</td>\n",
       "      <td>0.0958</td>\n",
       "      <td>0.1028</td>\n",
       "      <td>0.0974</td>\n",
       "      <td>0.1009</td>\n",
       "    </tr>\n",
       "    <tr>\n",
       "      <th>LR+: Positive likelihood ratio</th>\n",
       "      <td>223.199</td>\n",
       "      <td>399.049</td>\n",
       "      <td>185.511</td>\n",
       "      <td>215.849</td>\n",
       "      <td>151.784</td>\n",
       "      <td>264.861</td>\n",
       "      <td>459.998</td>\n",
       "      <td>174.731</td>\n",
       "      <td>229.479</td>\n",
       "      <td>76.4019</td>\n",
       "    </tr>\n",
       "    <tr>\n",
       "      <th>LR-: Negative likelihood ratio</th>\n",
       "      <td>0.0102495</td>\n",
       "      <td>0.00971574</td>\n",
       "      <td>0.0486994</td>\n",
       "      <td>0.039781</td>\n",
       "      <td>0.108581</td>\n",
       "      <td>0.0405055</td>\n",
       "      <td>0.0334733</td>\n",
       "      <td>0.0459709</td>\n",
       "      <td>0.0340241</td>\n",
       "      <td>0.0832598</td>\n",
       "    </tr>\n",
       "    <tr>\n",
       "      <th>DOR: Diagnostic odds ratio</th>\n",
       "      <td>21776.5</td>\n",
       "      <td>41072.4</td>\n",
       "      <td>3809.31</td>\n",
       "      <td>5425.94</td>\n",
       "      <td>1397.89</td>\n",
       "      <td>6538.89</td>\n",
       "      <td>13742.3</td>\n",
       "      <td>3800.9</td>\n",
       "      <td>6744.58</td>\n",
       "      <td>917.633</td>\n",
       "    </tr>\n",
       "    <tr>\n",
       "      <th>FOR: False omission rate</th>\n",
       "      <td>0.00111235</td>\n",
       "      <td>0.00124238</td>\n",
       "      <td>0.00557289</td>\n",
       "      <td>0.00444939</td>\n",
       "      <td>0.0116856</td>\n",
       "      <td>0.00395127</td>\n",
       "      <td>0.00353396</td>\n",
       "      <td>0.00523969</td>\n",
       "      <td>0.00365813</td>\n",
       "      <td>0.00925719</td>\n",
       "    </tr>\n",
       "  </tbody>\n",
       "</table>\n",
       "</div>"
      ],
      "text/plain": [
       "Classes                                         0           1           2  \\\n",
       "Population                                  10000       10000       10000   \n",
       "P: Condition positive                         980        1135        1032   \n",
       "N: Condition negative                        9020        8865        8968   \n",
       "Test outcome positive                        1010        1146        1028   \n",
       "Test outcome negative                        8990        8854        8972   \n",
       "TP: True Positive                             970        1124         982   \n",
       "TN: True Negative                            8980        8843        8922   \n",
       "FP: False Positive                             40          22          46   \n",
       "FN: False Negative                             10          11          50   \n",
       "TPR: (Sensitivity, hit rate, recall)     0.989796    0.990308     0.95155   \n",
       "TNR=SPC: (Specificity)                   0.995565    0.997518    0.994871   \n",
       "PPV: Pos Pred Value (Precision)          0.960396    0.980803    0.955253   \n",
       "NPV: Neg Pred Value                      0.998888    0.998758    0.994427   \n",
       "FPR: False-out                         0.00443459  0.00248167  0.00512935   \n",
       "FDR: False Discovery Rate                0.039604   0.0191972   0.0447471   \n",
       "FNR: Miss Rate                          0.0102041  0.00969163   0.0484496   \n",
       "ACC: Accuracy                               0.995      0.9967      0.9904   \n",
       "F1 score                                 0.974874    0.985533    0.953398   \n",
       "MCC: Matthews correlation coefficient    0.972235    0.983685    0.948049   \n",
       "Informedness                             0.985361    0.987827    0.946421   \n",
       "Markedness                               0.959284     0.97956     0.94968   \n",
       "Prevalence                                  0.098      0.1135      0.1032   \n",
       "LR+: Positive likelihood ratio            223.199     399.049     185.511   \n",
       "LR-: Negative likelihood ratio          0.0102495  0.00971574   0.0486994   \n",
       "DOR: Diagnostic odds ratio                21776.5     41072.4     3809.31   \n",
       "FOR: False omission rate               0.00111235  0.00124238  0.00557289   \n",
       "\n",
       "Classes                                         3           4           5  \\\n",
       "Population                                  10000       10000       10000   \n",
       "P: Condition positive                        1010         982         892   \n",
       "N: Condition negative                        8990        9018        9108   \n",
       "Test outcome positive                        1010         929         889   \n",
       "Test outcome negative                        8990        9071        9111   \n",
       "TP: True Positive                             970         876         856   \n",
       "TN: True Negative                            8950        8965        9075   \n",
       "FP: False Positive                             40          53          33   \n",
       "FN: False Negative                             40         106          36   \n",
       "TPR: (Sensitivity, hit rate, recall)     0.960396    0.892057    0.959641   \n",
       "TNR=SPC: (Specificity)                   0.995551    0.994123    0.996377   \n",
       "PPV: Pos Pred Value (Precision)          0.960396    0.942949     0.96288   \n",
       "NPV: Neg Pred Value                      0.995551    0.988314    0.996049   \n",
       "FPR: False-out                         0.00444939  0.00587713  0.00362319   \n",
       "FDR: False Discovery Rate                0.039604   0.0570506   0.0371204   \n",
       "FNR: Miss Rate                           0.039604    0.107943   0.0403587   \n",
       "ACC: Accuracy                               0.992      0.9841      0.9931   \n",
       "F1 score                                 0.960396    0.916797    0.961258   \n",
       "MCC: Matthews correlation coefficient    0.955947    0.908442    0.957472   \n",
       "Informedness                             0.955947     0.88618    0.956018   \n",
       "Markedness                               0.955947    0.931264    0.958928   \n",
       "Prevalence                                  0.101      0.0982      0.0892   \n",
       "LR+: Positive likelihood ratio            215.849     151.784     264.861   \n",
       "LR-: Negative likelihood ratio           0.039781    0.108581   0.0405055   \n",
       "DOR: Diagnostic odds ratio                5425.94     1397.89     6538.89   \n",
       "FOR: False omission rate               0.00444939   0.0116856  0.00395127   \n",
       "\n",
       "Classes                                         6           7           8  \\\n",
       "Population                                  10000       10000       10000   \n",
       "P: Condition positive                         958        1028         974   \n",
       "N: Condition negative                        9042        8972        9026   \n",
       "Test outcome positive                         945        1030         979   \n",
       "Test outcome negative                        9055        8970        9021   \n",
       "TP: True Positive                             926         981         941   \n",
       "TN: True Negative                            9023        8923        8988   \n",
       "FP: False Positive                             19          49          38   \n",
       "FN: False Negative                             32          47          33   \n",
       "TPR: (Sensitivity, hit rate, recall)     0.966597     0.95428    0.966119   \n",
       "TNR=SPC: (Specificity)                   0.997899    0.994539     0.99579   \n",
       "PPV: Pos Pred Value (Precision)          0.979894    0.952427    0.961185   \n",
       "NPV: Neg Pred Value                      0.996466     0.99476    0.996342   \n",
       "FPR: False-out                         0.00210131  0.00546144  0.00421006   \n",
       "FDR: False Discovery Rate               0.0201058   0.0475728   0.0388151   \n",
       "FNR: Miss Rate                          0.0334029   0.0457198   0.0338809   \n",
       "ACC: Accuracy                              0.9949      0.9904      0.9929   \n",
       "F1 score                                   0.9732    0.953353    0.963646   \n",
       "MCC: Matthews correlation coefficient     0.97041    0.948003    0.959715   \n",
       "Informedness                             0.964496    0.948819    0.961909   \n",
       "Markedness                                0.97636    0.947187    0.957527   \n",
       "Prevalence                                 0.0958      0.1028      0.0974   \n",
       "LR+: Positive likelihood ratio            459.998     174.731     229.479   \n",
       "LR-: Negative likelihood ratio          0.0334733   0.0459709   0.0340241   \n",
       "DOR: Diagnostic odds ratio                13742.3      3800.9     6744.58   \n",
       "FOR: False omission rate               0.00353396  0.00523969  0.00365813   \n",
       "\n",
       "Classes                                         9  \n",
       "Population                                  10000  \n",
       "P: Condition positive                        1009  \n",
       "N: Condition negative                        8991  \n",
       "Test outcome positive                        1034  \n",
       "Test outcome negative                        8966  \n",
       "TP: True Positive                             926  \n",
       "TN: True Negative                            8883  \n",
       "FP: False Positive                            108  \n",
       "FN: False Negative                             83  \n",
       "TPR: (Sensitivity, hit rate, recall)      0.91774  \n",
       "TNR=SPC: (Specificity)                   0.987988  \n",
       "PPV: Pos Pred Value (Precision)          0.895551  \n",
       "NPV: Neg Pred Value                      0.990743  \n",
       "FPR: False-out                           0.012012  \n",
       "FDR: False Discovery Rate                0.104449  \n",
       "FNR: Miss Rate                          0.0822597  \n",
       "ACC: Accuracy                              0.9809  \n",
       "F1 score                                  0.90651  \n",
       "MCC: Matthews correlation coefficient    0.895959  \n",
       "Informedness                             0.905728  \n",
       "Markedness                               0.886294  \n",
       "Prevalence                                 0.1009  \n",
       "LR+: Positive likelihood ratio            76.4019  \n",
       "LR-: Negative likelihood ratio          0.0832598  \n",
       "DOR: Diagnostic odds ratio                917.633  \n",
       "FOR: False omission rate               0.00925719  "
      ]
     },
     "execution_count": 117,
     "metadata": {},
     "output_type": "execute_result"
    }
   ],
   "source": [
    "confusion_matrix.stats_class"
   ]
  },
  {
   "cell_type": "code",
   "execution_count": 118,
   "metadata": {
    "collapsed": false,
    "scrolled": true
   },
   "outputs": [
    {
     "data": {
      "image/png": "[encoded data removed]",
      "text/plain": [
       "<matplotlib.figure.Figure at 0x257d5840b00>"
      ]
     },
     "metadata": {},
     "output_type": "display_data"
    }
   ],
   "source": [
    "confusion_matrix.plot()\n",
    "plt.show()"
   ]
  },
  {
   "cell_type": "code",
   "execution_count": 119,
   "metadata": {
    "collapsed": false
   },
   "outputs": [
    {
     "name": "stdout",
     "output_type": "stream",
     "text": [
      "10\n",
      "11\n",
      "50\n",
      "40\n",
      "106\n",
      "36\n",
      "32\n",
      "47\n",
      "33\n",
      "83\n"
     ]
    },
    {
     "data": {
      "text/plain": [
       "44.535"
      ]
     },
     "execution_count": 119,
     "metadata": {},
     "output_type": "execute_result"
    }
   ],
   "source": [
    "confusion_matrix.FN"
   ]
  },
  {
   "cell_type": "code",
   "execution_count": 120,
   "metadata": {
    "collapsed": false
   },
   "outputs": [],
   "source": [
    "result = testResponse.astype(np.int32)"
   ]
  },
  {
   "cell_type": "code",
   "execution_count": 121,
   "metadata": {
    "collapsed": false
   },
   "outputs": [
    {
     "data": {
      "text/plain": [
       "array([7, 2, 1, ..., 4, 5, 6])"
      ]
     },
     "execution_count": 121,
     "metadata": {},
     "output_type": "execute_result"
    }
   ],
   "source": [
    "result"
   ]
  },
  {
   "cell_type": "code",
   "execution_count": 122,
   "metadata": {
    "collapsed": false
   },
   "outputs": [
    {
     "data": {
      "text/plain": [
       "10000"
      ]
     },
     "execution_count": 122,
     "metadata": {},
     "output_type": "execute_result"
    }
   ],
   "source": [
    "test_lbl.size"
   ]
  },
  {
   "cell_type": "code",
   "execution_count": 123,
   "metadata": {
    "collapsed": false
   },
   "outputs": [
    {
     "name": "stdout",
     "output_type": "stream",
     "text": [
      "0.995\n",
      "0.9967\n",
      "0.9904\n",
      "0.992\n",
      "0.9841\n",
      "0.9931\n",
      "0.9949\n",
      "0.9904\n",
      "0.9929\n",
      "0.9809\n"
     ]
    },
    {
     "data": {
      "text/plain": [
       "0.9910656799999998"
      ]
     },
     "execution_count": 123,
     "metadata": {},
     "output_type": "execute_result"
    }
   ],
   "source": [
    "#Using test data to calculate hyper parameter C\n",
    "ACC = confusion_matrix.ACC\n",
    "ACC"
   ]
  },
  {
   "cell_type": "code",
   "execution_count": 124,
   "metadata": {
    "collapsed": false
   },
   "outputs": [
    {
     "name": "stdout",
     "output_type": "stream",
     "text": [
      "0.995\n",
      "0.9967\n",
      "0.9904\n",
      "0.992\n",
      "0.9841\n",
      "0.9931\n",
      "0.9949\n",
      "0.9904\n",
      "0.9929\n",
      "0.9809\n"
     ]
    },
    {
     "data": {
      "text/plain": [
       "9910.656799999999"
      ]
     },
     "execution_count": 124,
     "metadata": {},
     "output_type": "execute_result"
    }
   ],
   "source": [
    "C = confusion_matrix.ACC * (confusion_matrix.population)\n",
    "C"
   ]
  },
  {
   "cell_type": "code",
   "execution_count": 125,
   "metadata": {
    "collapsed": false
   },
   "outputs": [
    {
     "name": "stdout",
     "output_type": "stream",
     "text": [
      "970\n",
      "1124\n",
      "982\n",
      "970\n",
      "876\n",
      "856\n",
      "926\n",
      "981\n",
      "941\n",
      "926\n"
     ]
    },
    {
     "data": {
      "text/plain": [
       "958.9692"
      ]
     },
     "execution_count": 125,
     "metadata": {},
     "output_type": "execute_result"
    }
   ],
   "source": [
    "confusion_matrix.TP"
   ]
  },
  {
   "cell_type": "code",
   "execution_count": 126,
   "metadata": {
    "collapsed": false
   },
   "outputs": [
    {
     "name": "stdout",
     "output_type": "stream",
     "text": [
      "18\n",
      "33\n",
      "61\n",
      "62\n",
      "65\n",
      "73\n",
      "115\n",
      "119\n",
      "139\n",
      "149\n",
      "209\n",
      "321\n",
      "341\n",
      "376\n",
      "381\n",
      "387\n",
      "408\n",
      "420\n",
      "426\n",
      "445\n",
      "448\n",
      "449\n",
      "479\n",
      "490\n",
      "532\n",
      "550\n",
      "554\n",
      "565\n",
      "582\n",
      "583\n",
      "645\n",
      "659\n",
      "684\n",
      "691\n",
      "707\n",
      "708\n",
      "720\n",
      "726\n",
      "740\n",
      "774\n",
      "786\n",
      "844\n",
      "846\n",
      "856\n",
      "874\n",
      "882\n",
      "883\n",
      "902\n",
      "926\n",
      "931\n",
      "936\n",
      "947\n",
      "951\n",
      "958\n",
      "1014\n",
      "1044\n",
      "1045\n",
      "1128\n",
      "1156\n",
      "1182\n",
      "1192\n",
      "1226\n",
      "1232\n",
      "1247\n",
      "1256\n",
      "1260\n",
      "1274\n",
      "1283\n",
      "1299\n",
      "1306\n",
      "1312\n",
      "1391\n",
      "1393\n",
      "1414\n",
      "1425\n",
      "1429\n",
      "1469\n",
      "1494\n",
      "1500\n",
      "1516\n",
      "1522\n",
      "1523\n",
      "1526\n",
      "1530\n",
      "1600\n",
      "1620\n",
      "1648\n",
      "1660\n",
      "1678\n",
      "1695\n",
      "1709\n",
      "1717\n",
      "1721\n",
      "1781\n",
      "1790\n",
      "1851\n",
      "1864\n",
      "1868\n",
      "1901\n",
      "1933\n",
      "1982\n",
      "1984\n",
      "2005\n",
      "2035\n",
      "2043\n",
      "2063\n",
      "2090\n",
      "2094\n",
      "2098\n",
      "2109\n",
      "2118\n",
      "2129\n",
      "2130\n",
      "2135\n",
      "2161\n",
      "2162\n",
      "2182\n",
      "2189\n",
      "2198\n",
      "2218\n",
      "2221\n",
      "2272\n",
      "2293\n",
      "2325\n",
      "2338\n",
      "2351\n",
      "2358\n",
      "2371\n",
      "2387\n",
      "2392\n",
      "2405\n",
      "2406\n",
      "2414\n",
      "2415\n",
      "2433\n",
      "2447\n",
      "2457\n",
      "2462\n",
      "2496\n",
      "2498\n",
      "2508\n",
      "2532\n",
      "2533\n",
      "2537\n",
      "2573\n",
      "2597\n",
      "2607\n",
      "2659\n",
      "2668\n",
      "2678\n",
      "2689\n",
      "2699\n",
      "2718\n",
      "2720\n",
      "2730\n",
      "2742\n",
      "2743\n",
      "2758\n",
      "2771\n",
      "2802\n",
      "2812\n",
      "2860\n",
      "2883\n",
      "2896\n",
      "2898\n",
      "2921\n",
      "2930\n",
      "2938\n",
      "2940\n",
      "2953\n",
      "2959\n",
      "2961\n",
      "2964\n",
      "2970\n",
      "2975\n",
      "2995\n",
      "3005\n",
      "3030\n",
      "3073\n",
      "3102\n",
      "3129\n",
      "3138\n",
      "3146\n",
      "3160\n",
      "3225\n",
      "3240\n",
      "3247\n",
      "3249\n",
      "3326\n",
      "3330\n",
      "3333\n",
      "3341\n",
      "3342\n",
      "3361\n",
      "3384\n",
      "3410\n",
      "3422\n",
      "3429\n",
      "3490\n",
      "3503\n",
      "3542\n",
      "3552\n",
      "3558\n",
      "3559\n",
      "3573\n",
      "3604\n",
      "3607\n",
      "3611\n",
      "3635\n",
      "3653\n",
      "3662\n",
      "3664\n",
      "3666\n",
      "3718\n",
      "3723\n",
      "3727\n",
      "3755\n",
      "3762\n",
      "3778\n",
      "3780\n",
      "3806\n",
      "3808\n",
      "3810\n",
      "3821\n",
      "3831\n",
      "3846\n",
      "3859\n",
      "3893\n",
      "3932\n",
      "3941\n",
      "3976\n",
      "3985\n",
      "3997\n",
      "4000\n",
      "4001\n",
      "4002\n",
      "4007\n",
      "4018\n",
      "4024\n",
      "4053\n",
      "4060\n",
      "4078\n",
      "4093\n",
      "4102\n",
      "4176\n",
      "4194\n",
      "4199\n",
      "4201\n",
      "4224\n",
      "4248\n",
      "4289\n",
      "4294\n",
      "4306\n",
      "4313\n",
      "4323\n",
      "4333\n",
      "4360\n",
      "4384\n",
      "4396\n",
      "4405\n",
      "4414\n",
      "4461\n",
      "4479\n",
      "4483\n",
      "4505\n",
      "4514\n",
      "4528\n",
      "4547\n",
      "4548\n",
      "4567\n",
      "4571\n",
      "4594\n",
      "4635\n",
      "4679\n",
      "4690\n",
      "4699\n",
      "4731\n",
      "4743\n",
      "4759\n",
      "4777\n",
      "4783\n",
      "4795\n",
      "4807\n",
      "4813\n",
      "4823\n",
      "4826\n",
      "4837\n",
      "4886\n",
      "4893\n",
      "4929\n",
      "4966\n",
      "4976\n",
      "4978\n",
      "4990\n",
      "5101\n",
      "5165\n",
      "5178\n",
      "5200\n",
      "5201\n",
      "5202\n",
      "5260\n",
      "5331\n",
      "5345\n",
      "5440\n",
      "5449\n",
      "5593\n",
      "5600\n",
      "5634\n",
      "5639\n",
      "5642\n",
      "5670\n",
      "5705\n",
      "5709\n",
      "5728\n",
      "5737\n",
      "5745\n",
      "5754\n",
      "5784\n",
      "5842\n",
      "5845\n",
      "5937\n",
      "5961\n",
      "5979\n",
      "6065\n",
      "6071\n",
      "6090\n",
      "6111\n",
      "6154\n",
      "6172\n",
      "6173\n",
      "6205\n",
      "6265\n",
      "6271\n",
      "6409\n",
      "6412\n",
      "6420\n",
      "6505\n",
      "6511\n",
      "6558\n",
      "6559\n",
      "6560\n",
      "6568\n",
      "6569\n",
      "6571\n",
      "6578\n",
      "6579\n",
      "6592\n",
      "6597\n",
      "6608\n",
      "6625\n",
      "6631\n",
      "6651\n",
      "6681\n",
      "6741\n",
      "6744\n",
      "6783\n",
      "6788\n",
      "6827\n",
      "6861\n",
      "6883\n",
      "6895\n",
      "6931\n",
      "6997\n",
      "7009\n",
      "7075\n",
      "7208\n",
      "7233\n",
      "7256\n",
      "7259\n",
      "7266\n",
      "7322\n",
      "7423\n",
      "7425\n",
      "7431\n",
      "7471\n",
      "7494\n",
      "7503\n",
      "7511\n",
      "7657\n",
      "7669\n",
      "7704\n",
      "7733\n",
      "7779\n",
      "7840\n",
      "7841\n",
      "7849\n",
      "7851\n",
      "7917\n",
      "7919\n",
      "7925\n",
      "8059\n",
      "8065\n",
      "8094\n",
      "8110\n",
      "8115\n",
      "8143\n",
      "8281\n",
      "8287\n",
      "8317\n",
      "8319\n",
      "8326\n",
      "8332\n",
      "8355\n",
      "8369\n",
      "8378\n",
      "8382\n",
      "8392\n",
      "8416\n",
      "8482\n",
      "8508\n",
      "8571\n",
      "8593\n",
      "8601\n",
      "8886\n",
      "8947\n",
      "9009\n",
      "9015\n",
      "9024\n",
      "9033\n",
      "9168\n",
      "9211\n",
      "9225\n",
      "9342\n",
      "9344\n",
      "9350\n",
      "9379\n",
      "9423\n",
      "9473\n",
      "9500\n",
      "9530\n",
      "9642\n",
      "9664\n",
      "9672\n",
      "9687\n",
      "9698\n",
      "9700\n",
      "9719\n",
      "9729\n",
      "9738\n",
      "9745\n",
      "9770\n",
      "9839\n",
      "9840\n",
      "9850\n",
      "9867\n",
      "9922\n",
      "9944\n",
      "9982\n"
     ]
    }
   ],
   "source": [
    "tuple_value = []\n",
    "for i in range (test_lbl.size):\n",
    "    if test_lbl[i]!= result[i]:\n",
    "        print (i)\n",
    "        # tuple_value = [(i,test_lbl[i],result[i])]\n",
    "        tuple_value.append((i,test_lbl[i],result[i]))"
   ]
  },
  {
   "cell_type": "code",
   "execution_count": 127,
   "metadata": {
    "collapsed": false
   },
   "outputs": [
    {
     "data": {
      "text/plain": [
       "[(18, 3, 8),\n",
       " (33, 4, 5),\n",
       " (61, 8, 2),\n",
       " (62, 9, 4),\n",
       " (65, 4, 7),\n",
       " (73, 9, 7),\n",
       " (115, 4, 9),\n",
       " (119, 2, 7),\n",
       " (139, 4, 9),\n",
       " (149, 2, 8),\n",
       " (209, 9, 3),\n",
       " (321, 2, 7),\n",
       " (341, 6, 8),\n",
       " (376, 4, 9),\n",
       " (381, 3, 7),\n",
       " (387, 2, 7),\n",
       " (408, 3, 0),\n",
       " (420, 4, 9),\n",
       " (426, 9, 4),\n",
       " (445, 6, 5),\n",
       " (448, 9, 4),\n",
       " (449, 3, 5),\n",
       " (479, 9, 4),\n",
       " (490, 0, 6),\n",
       " (532, 4, 9),\n",
       " (550, 7, 9),\n",
       " (554, 7, 8),\n",
       " (565, 4, 9),\n",
       " (582, 8, 2),\n",
       " (583, 2, 7),\n",
       " (645, 5, 3),\n",
       " (659, 2, 7),\n",
       " (684, 7, 2),\n",
       " (691, 8, 9),\n",
       " (707, 4, 9),\n",
       " (708, 4, 9),\n",
       " (720, 5, 8),\n",
       " (726, 7, 3),\n",
       " (740, 4, 9),\n",
       " (774, 4, 9),\n",
       " (786, 6, 0),\n",
       " (844, 8, 7),\n",
       " (846, 7, 2),\n",
       " (856, 5, 7),\n",
       " (874, 9, 4),\n",
       " (882, 9, 7),\n",
       " (883, 3, 5),\n",
       " (902, 4, 9),\n",
       " (926, 2, 0),\n",
       " (931, 4, 9),\n",
       " (936, 8, 6),\n",
       " (947, 8, 9),\n",
       " (951, 5, 9),\n",
       " (958, 3, 0),\n",
       " (1014, 6, 5),\n",
       " (1044, 6, 4),\n",
       " (1045, 9, 1),\n",
       " (1128, 3, 7),\n",
       " (1156, 7, 8),\n",
       " (1182, 6, 5),\n",
       " (1192, 9, 4),\n",
       " (1226, 7, 2),\n",
       " (1232, 9, 4),\n",
       " (1247, 9, 0),\n",
       " (1256, 2, 7),\n",
       " (1260, 7, 1),\n",
       " (1274, 4, 6),\n",
       " (1283, 7, 2),\n",
       " (1299, 5, 0),\n",
       " (1306, 4, 9),\n",
       " (1312, 8, 3),\n",
       " (1391, 4, 9),\n",
       " (1393, 5, 7),\n",
       " (1414, 9, 0),\n",
       " (1425, 8, 4),\n",
       " (1429, 9, 4),\n",
       " (1469, 3, 5),\n",
       " (1494, 7, 0),\n",
       " (1500, 7, 9),\n",
       " (1516, 4, 9),\n",
       " (1522, 7, 9),\n",
       " (1523, 8, 6),\n",
       " (1526, 0, 9),\n",
       " (1530, 8, 7),\n",
       " (1600, 3, 5),\n",
       " (1620, 2, 1),\n",
       " (1648, 9, 7),\n",
       " (1660, 7, 2),\n",
       " (1678, 2, 0),\n",
       " (1695, 9, 7),\n",
       " (1709, 9, 4),\n",
       " (1717, 8, 0),\n",
       " (1721, 7, 9),\n",
       " (1781, 9, 3),\n",
       " (1790, 2, 7),\n",
       " (1851, 9, 4),\n",
       " (1864, 4, 9),\n",
       " (1868, 1, 2),\n",
       " (1901, 9, 4),\n",
       " (1933, 7, 2),\n",
       " (1982, 6, 8),\n",
       " (1984, 2, 0),\n",
       " (2005, 4, 2),\n",
       " (2035, 5, 3),\n",
       " (2043, 4, 6),\n",
       " (2063, 7, 2),\n",
       " (2090, 4, 7),\n",
       " (2094, 4, 9),\n",
       " (2098, 2, 0),\n",
       " (2109, 3, 8),\n",
       " (2118, 6, 4),\n",
       " (2129, 9, 8),\n",
       " (2130, 4, 9),\n",
       " (2135, 6, 1),\n",
       " (2161, 9, 4),\n",
       " (2162, 5, 8),\n",
       " (2182, 1, 2),\n",
       " (2189, 9, 8),\n",
       " (2198, 2, 1),\n",
       " (2218, 4, 9),\n",
       " (2221, 1, 5),\n",
       " (2272, 8, 6),\n",
       " (2293, 9, 0),\n",
       " (2325, 7, 2),\n",
       " (2338, 4, 7),\n",
       " (2351, 3, 0),\n",
       " (2358, 1, 3),\n",
       " (2371, 4, 9),\n",
       " (2387, 9, 1),\n",
       " (2392, 3, 9),\n",
       " (2405, 3, 2),\n",
       " (2406, 9, 8),\n",
       " (2414, 9, 4),\n",
       " (2415, 2, 8),\n",
       " (2433, 2, 1),\n",
       " (2447, 4, 9),\n",
       " (2457, 4, 8),\n",
       " (2462, 2, 0),\n",
       " (2496, 2, 3),\n",
       " (2498, 4, 9),\n",
       " (2508, 6, 3),\n",
       " (2532, 6, 1),\n",
       " (2533, 3, 1),\n",
       " (2537, 4, 9),\n",
       " (2573, 5, 1),\n",
       " (2597, 5, 3),\n",
       " (2607, 7, 4),\n",
       " (2659, 4, 9),\n",
       " (2668, 5, 4),\n",
       " (2678, 4, 9),\n",
       " (2689, 5, 3),\n",
       " (2699, 2, 8),\n",
       " (2718, 6, 4),\n",
       " (2720, 9, 4),\n",
       " (2730, 7, 2),\n",
       " (2742, 9, 2),\n",
       " (2743, 5, 8),\n",
       " (2758, 8, 0),\n",
       " (2771, 4, 9),\n",
       " (2802, 2, 0),\n",
       " (2812, 9, 4),\n",
       " (2860, 6, 5),\n",
       " (2883, 9, 4),\n",
       " (2896, 8, 0),\n",
       " (2898, 4, 9),\n",
       " (2921, 3, 8),\n",
       " (2930, 5, 6),\n",
       " (2938, 4, 9),\n",
       " (2940, 2, 1),\n",
       " (2953, 3, 5),\n",
       " (2959, 2, 3),\n",
       " (2961, 7, 2),\n",
       " (2964, 9, 4),\n",
       " (2970, 5, 0),\n",
       " (2975, 8, 2),\n",
       " (2995, 6, 0),\n",
       " (3005, 9, 6),\n",
       " (3030, 6, 0),\n",
       " (3073, 1, 2),\n",
       " (3102, 5, 3),\n",
       " (3129, 3, 2),\n",
       " (3138, 3, 0),\n",
       " (3146, 3, 5),\n",
       " (3160, 9, 4),\n",
       " (3225, 7, 4),\n",
       " (3240, 9, 4),\n",
       " (3247, 4, 9),\n",
       " (3249, 4, 9),\n",
       " (3326, 3, 5),\n",
       " (3330, 2, 5),\n",
       " (3333, 7, 9),\n",
       " (3341, 4, 9),\n",
       " (3342, 6, 5),\n",
       " (3361, 7, 0),\n",
       " (3384, 2, 1),\n",
       " (3410, 4, 9),\n",
       " (3422, 6, 0),\n",
       " (3429, 4, 9),\n",
       " (3490, 4, 9),\n",
       " (3503, 9, 1),\n",
       " (3542, 4, 8),\n",
       " (3552, 5, 0),\n",
       " (3558, 5, 0),\n",
       " (3559, 8, 5),\n",
       " (3573, 7, 2),\n",
       " (3604, 7, 8),\n",
       " (3607, 4, 9),\n",
       " (3611, 2, 7),\n",
       " (3635, 8, 4),\n",
       " (3653, 4, 9),\n",
       " (3662, 8, 6),\n",
       " (3664, 9, 4),\n",
       " (3666, 9, 4),\n",
       " (3718, 4, 9),\n",
       " (3723, 9, 0),\n",
       " (3727, 8, 4),\n",
       " (3755, 9, 8),\n",
       " (3762, 6, 8),\n",
       " (3778, 5, 6),\n",
       " (3780, 4, 8),\n",
       " (3806, 5, 8),\n",
       " (3808, 7, 1),\n",
       " (3810, 5, 9),\n",
       " (3821, 9, 4),\n",
       " (3831, 9, 8),\n",
       " (3846, 6, 2),\n",
       " (3859, 9, 4),\n",
       " (3893, 5, 3),\n",
       " (3932, 2, 4),\n",
       " (3941, 4, 8),\n",
       " (3976, 7, 1),\n",
       " (3985, 9, 4),\n",
       " (3997, 7, 3),\n",
       " (4000, 9, 4),\n",
       " (4001, 4, 9),\n",
       " (4002, 3, 5),\n",
       " (4007, 7, 2),\n",
       " (4018, 3, 5),\n",
       " (4024, 4, 9),\n",
       " (4053, 7, 4),\n",
       " (4060, 4, 9),\n",
       " (4078, 9, 8),\n",
       " (4093, 9, 4),\n",
       " (4102, 7, 3),\n",
       " (4176, 2, 8),\n",
       " (4194, 4, 9),\n",
       " (4199, 7, 4),\n",
       " (4201, 1, 7),\n",
       " (4224, 9, 7),\n",
       " (4248, 2, 4),\n",
       " (4289, 2, 7),\n",
       " (4294, 9, 3),\n",
       " (4306, 3, 7),\n",
       " (4313, 4, 7),\n",
       " (4323, 5, 3),\n",
       " (4333, 9, 4),\n",
       " (4360, 5, 3),\n",
       " (4384, 2, 1),\n",
       " (4396, 4, 9),\n",
       " (4405, 9, 4),\n",
       " (4414, 4, 9),\n",
       " (4461, 5, 3),\n",
       " (4479, 9, 7),\n",
       " (4483, 4, 9),\n",
       " (4505, 9, 3),\n",
       " (4514, 4, 9),\n",
       " (4528, 3, 5),\n",
       " (4547, 6, 4),\n",
       " (4548, 5, 6),\n",
       " (4567, 4, 9),\n",
       " (4571, 6, 0),\n",
       " (4594, 2, 7),\n",
       " (4635, 3, 5),\n",
       " (4679, 9, 3),\n",
       " (4690, 7, 2),\n",
       " (4699, 6, 2),\n",
       " (4731, 8, 7),\n",
       " (4743, 8, 5),\n",
       " (4759, 1, 3),\n",
       " (4777, 8, 6),\n",
       " (4783, 4, 9),\n",
       " (4795, 9, 4),\n",
       " (4807, 8, 0),\n",
       " (4813, 4, 9),\n",
       " (4823, 9, 4),\n",
       " (4826, 4, 2),\n",
       " (4837, 7, 1),\n",
       " (4886, 7, 1),\n",
       " (4893, 4, 9),\n",
       " (4929, 4, 0),\n",
       " (4966, 7, 9),\n",
       " (4976, 4, 9),\n",
       " (4978, 8, 3),\n",
       " (4990, 3, 2),\n",
       " (5101, 4, 9),\n",
       " (5165, 0, 6),\n",
       " (5178, 4, 9),\n",
       " (5200, 4, 9),\n",
       " (5201, 4, 9),\n",
       " (5202, 4, 9),\n",
       " (5260, 4, 9),\n",
       " (5331, 1, 6),\n",
       " (5345, 4, 9),\n",
       " (5440, 4, 9),\n",
       " (5449, 2, 3),\n",
       " (5593, 0, 5),\n",
       " (5600, 7, 9),\n",
       " (5634, 2, 0),\n",
       " (5639, 9, 5),\n",
       " (5642, 1, 8),\n",
       " (5670, 7, 9),\n",
       " (5705, 9, 4),\n",
       " (5709, 7, 9),\n",
       " (5728, 7, 9),\n",
       " (5737, 0, 2),\n",
       " (5745, 7, 1),\n",
       " (5754, 9, 3),\n",
       " (5784, 9, 4),\n",
       " (5842, 4, 9),\n",
       " (5845, 7, 4),\n",
       " (5937, 5, 3),\n",
       " (5961, 9, 3),\n",
       " (5979, 4, 9),\n",
       " (6065, 3, 8),\n",
       " (6071, 9, 3),\n",
       " (6090, 8, 7),\n",
       " (6111, 2, 7),\n",
       " (6154, 8, 7),\n",
       " (6172, 9, 5),\n",
       " (6173, 9, 2),\n",
       " (6205, 4, 9),\n",
       " (6265, 4, 9),\n",
       " (6271, 4, 9),\n",
       " (6409, 9, 4),\n",
       " (6412, 2, 0),\n",
       " (6420, 9, 7),\n",
       " (6505, 9, 0),\n",
       " (6511, 3, 5),\n",
       " (6558, 6, 2),\n",
       " (6559, 4, 9),\n",
       " (6560, 9, 8),\n",
       " (6568, 9, 7),\n",
       " (6569, 3, 7),\n",
       " (6571, 9, 3),\n",
       " (6578, 8, 5),\n",
       " (6579, 4, 9),\n",
       " (6592, 9, 4),\n",
       " (6597, 0, 2),\n",
       " (6608, 9, 5),\n",
       " (6625, 8, 2),\n",
       " (6631, 8, 7),\n",
       " (6651, 0, 6),\n",
       " (6681, 3, 9),\n",
       " (6741, 7, 9),\n",
       " (6744, 2, 7),\n",
       " (6783, 1, 6),\n",
       " (6788, 5, 8),\n",
       " (6827, 9, 4),\n",
       " (6861, 4, 9),\n",
       " (6883, 1, 6),\n",
       " (6895, 9, 7),\n",
       " (6931, 4, 9),\n",
       " (6997, 4, 9),\n",
       " (7009, 4, 9),\n",
       " (7075, 3, 5),\n",
       " (7208, 8, 2),\n",
       " (7233, 3, 0),\n",
       " (7256, 9, 7),\n",
       " (7259, 8, 2),\n",
       " (7266, 2, 7),\n",
       " (7322, 9, 7),\n",
       " (7423, 4, 9),\n",
       " (7425, 4, 9),\n",
       " (7431, 3, 5),\n",
       " (7471, 9, 7),\n",
       " (7494, 4, 9),\n",
       " (7503, 6, 0),\n",
       " (7511, 5, 3),\n",
       " (7657, 4, 9),\n",
       " (7669, 4, 9),\n",
       " (7704, 4, 9),\n",
       " (7733, 6, 3),\n",
       " (7779, 5, 3),\n",
       " (7840, 2, 3),\n",
       " (7841, 3, 5),\n",
       " (7849, 3, 5),\n",
       " (7851, 6, 0),\n",
       " (7917, 2, 7),\n",
       " (7919, 8, 2),\n",
       " (7925, 6, 1),\n",
       " (8059, 2, 8),\n",
       " (8065, 8, 1),\n",
       " (8094, 2, 8),\n",
       " (8110, 7, 1),\n",
       " (8115, 3, 2),\n",
       " (8143, 6, 2),\n",
       " (8281, 6, 2),\n",
       " (8287, 6, 0),\n",
       " (8317, 4, 9),\n",
       " (8319, 9, 4),\n",
       " (8326, 6, 2),\n",
       " (8332, 9, 3),\n",
       " (8355, 4, 9),\n",
       " (8369, 4, 9),\n",
       " (8378, 4, 9),\n",
       " (8382, 0, 3),\n",
       " (8392, 4, 2),\n",
       " (8416, 4, 9),\n",
       " (8482, 2, 3),\n",
       " (8508, 3, 5),\n",
       " (8571, 5, 0),\n",
       " (8593, 9, 4),\n",
       " (8601, 5, 3),\n",
       " (8886, 4, 9),\n",
       " (8947, 4, 9),\n",
       " (9009, 7, 2),\n",
       " (9015, 7, 2),\n",
       " (9024, 7, 2),\n",
       " (9033, 4, 9),\n",
       " (9168, 2, 7),\n",
       " (9211, 4, 9),\n",
       " (9225, 2, 7),\n",
       " (9342, 3, 0),\n",
       " (9344, 4, 9),\n",
       " (9350, 4, 9),\n",
       " (9379, 2, 9),\n",
       " (9423, 9, 4),\n",
       " (9473, 4, 9),\n",
       " (9500, 2, 7),\n",
       " (9530, 9, 8),\n",
       " (9642, 9, 2),\n",
       " (9664, 2, 7),\n",
       " (9672, 4, 9),\n",
       " (9687, 0, 8),\n",
       " (9698, 6, 2),\n",
       " (9700, 2, 8),\n",
       " (9719, 5, 3),\n",
       " (9729, 5, 6),\n",
       " (9738, 4, 8),\n",
       " (9745, 4, 2),\n",
       " (9770, 5, 0),\n",
       " (9839, 2, 7),\n",
       " (9840, 3, 5),\n",
       " (9850, 0, 6),\n",
       " (9867, 2, 7),\n",
       " (9922, 4, 9),\n",
       " (9944, 3, 8),\n",
       " (9982, 5, 3)]"
      ]
     },
     "execution_count": 127,
     "metadata": {},
     "output_type": "execute_result"
    }
   ],
   "source": [
    "tuple_value"
   ]
  },
  {
   "cell_type": "code",
   "execution_count": 128,
   "metadata": {
    "collapsed": false
   },
   "outputs": [
    {
     "data": {
      "text/plain": [
       "448"
      ]
     },
     "execution_count": 128,
     "metadata": {},
     "output_type": "execute_result"
    }
   ],
   "source": [
    "len(tuple_value)"
   ]
  },
  {
   "cell_type": "code",
   "execution_count": null,
   "metadata": {
    "collapsed": true
   },
   "outputs": [],
   "source": []
  },
  {
   "cell_type": "code",
   "execution_count": 129,
   "metadata": {
    "collapsed": false
   },
   "outputs": [
    {
     "data": {
      "image/png": "[encoded data removed]",
      "text/plain": [
       "<matplotlib.figure.Figure at 0x257d599bb00>"
      ]
     },
     "metadata": {},
     "output_type": "display_data"
    },
    {
     "name": "stdout",
     "output_type": "stream",
     "text": [
      "Actual: [0, 1, 2, 3, 4, 5, 6, 7, 8, 9]\n",
      "Predcted: [6, 2, 7, 8, 5, 3, 8, 9, 2, 4]\n"
     ]
    }
   ],
   "source": [
    "failed_classification = []\n",
    "actual = []\n",
    "predicted = []\n",
    "for i in range (10):\n",
    "    for x, y, z in tuple_value:\n",
    "        if y  == i:           \n",
    "            failed_classification.append((x,y,z))\n",
    "            #print (failed_classification)\n",
    "            plt.subplot(1,10,i+1)\n",
    "            plt.imshow(threshold_test[x], cmap='Greys_r')\n",
    "            #plt.suptitle('Actual -> Pridected')\n",
    "            actual.append(y)\n",
    "            predicted.append(z)\n",
    "            plt.title(str(y)+' -> '+str(z)), plt.xticks([]), plt.yticks([])\n",
    "            plt.axis('off')\n",
    "            break\n",
    "plt.show()\n",
    "print('Actual: %s' % (actual[0:10],))\n",
    "print('Predcted: %s' % (predicted[0:10],))"
   ]
  },
  {
   "cell_type": "code",
   "execution_count": 411,
   "metadata": {
    "collapsed": false
   },
   "outputs": [
    {
     "data": {
      "text/plain": [
       "[(490, 0, 6),\n",
       " (1868, 1, 2),\n",
       " (119, 2, 7),\n",
       " (18, 3, 8),\n",
       " (33, 4, 5),\n",
       " (645, 5, 3),\n",
       " (341, 6, 8),\n",
       " (550, 7, 9),\n",
       " (61, 8, 2),\n",
       " (62, 9, 4)]"
      ]
     },
     "execution_count": 411,
     "metadata": {},
     "output_type": "execute_result"
    }
   ],
   "source": [
    "failed_classification"
   ]
  },
  {
   "cell_type": "code",
   "execution_count": 130,
   "metadata": {
    "collapsed": false
   },
   "outputs": [
    {
     "data": {
      "text/plain": [
       "\"\\nplt.subplot(1,10,i+1)\\n    plt.imshow(threshold_train[nine_index[i]], cmap='Greys_r')\\n    plt.axis('off')\\nplt.show()\\n\""
      ]
     },
     "execution_count": 130,
     "metadata": {},
     "output_type": "execute_result"
    }
   ],
   "source": [
    "'''\n",
    "plt.subplot(1,10,i+1)\n",
    "    plt.imshow(threshold_train[nine_index[i]], cmap='Greys_r')\n",
    "    plt.axis('off')\n",
    "plt.show()\n",
    "'''"
   ]
  },
  {
   "cell_type": "code",
   "execution_count": 226,
   "metadata": {
    "collapsed": false
   },
   "outputs": [],
   "source": [
    "# svm = cv2\n",
    "# import pandas as pd"
   ]
  },
  {
   "cell_type": "code",
   "execution_count": 229,
   "metadata": {
    "collapsed": true
   },
   "outputs": [],
   "source": [
    "# y_actu = pd.Series(test_lbl, name='Actual')\n",
    "# y_pred = pd.Series(reasult, name='Predicted')\n",
    "# df_confusion = pd.crosstab(y_actu, y_pred, margins=True)"
   ]
  },
  {
   "cell_type": "code",
   "execution_count": 131,
   "metadata": {
    "collapsed": false
   },
   "outputs": [],
   "source": [
    "# df_confusion"
   ]
  },
  {
   "cell_type": "code",
   "execution_count": null,
   "metadata": {
    "collapsed": true
   },
   "outputs": [],
   "source": []
  },
  {
   "cell_type": "code",
   "execution_count": 132,
   "metadata": {
    "collapsed": false
   },
   "outputs": [],
   "source": [
    "#image beautification using Erosion\n",
    "##kernel = np.ones((5,5), np.uint8)\n",
    "##erosion = cv2.erode(threshold_train[1],kernel,iterations = 1)\n",
    "# df_confusion."
   ]
  },
  {
   "cell_type": "code",
   "execution_count": 133,
   "metadata": {
    "collapsed": false
   },
   "outputs": [],
   "source": [
    "#from pandas_confusion import ConfusionMatrix"
   ]
  },
  {
   "cell_type": "code",
   "execution_count": 157,
   "metadata": {
    "collapsed": false
   },
   "outputs": [],
   "source": [
    "##plt.subplot(1,10,1)\n",
    "##plt.axis('off')\n",
    "##plt.imshow(erosion, cmap='Greys_r')\n",
    "##plt.show()"
   ]
  },
  {
   "cell_type": "code",
   "execution_count": 122,
   "metadata": {
    "collapsed": false
   },
   "outputs": [],
   "source": [
    "# threshold_train[18]"
   ]
  },
  {
   "cell_type": "code",
   "execution_count": 69,
   "metadata": {
    "collapsed": true
   },
   "outputs": [],
   "source": [
    "#laplacian = cv2.Laplacian(reduced_train_images[0],cv2.CV_64F)"
   ]
  },
  {
   "cell_type": "code",
   "execution_count": null,
   "metadata": {
    "collapsed": false
   },
   "outputs": [],
   "source": []
  },
  {
   "cell_type": "code",
   "execution_count": 134,
   "metadata": {
    "collapsed": false
   },
   "outputs": [],
   "source": [
    "#plt.subplot(1,5,1)\n",
    "#plt.axis('off')\n",
    "#plt.imshow(laplacian, cmap='Greys_r')\n",
    "#plt.show()"
   ]
  },
  {
   "cell_type": "code",
   "execution_count": 135,
   "metadata": {
    "collapsed": false
   },
   "outputs": [
    {
     "data": {
      "text/plain": [
       "'\\ndef gaussianBlur(img):\\n    train_blur_image = []\\n    for image in img:\\n        blur = cv2.GaussianBlur(image,(5,5),0)\\n        train_blur_image.append(blur)\\n    return train_blur_image\\n'"
      ]
     },
     "execution_count": 135,
     "metadata": {},
     "output_type": "execute_result"
    }
   ],
   "source": [
    "#Blurring the image using gaussian kernel\n",
    "'''\n",
    "def gaussianBlur(img):\n",
    "    train_blur_image = []\n",
    "    for image in img:\n",
    "        blur = cv2.GaussianBlur(image,(5,5),0)\n",
    "        train_blur_image.append(blur)\n",
    "    return train_blur_image\n",
    "'''\n"
   ]
  },
  {
   "cell_type": "code",
   "execution_count": 136,
   "metadata": {
    "collapsed": false
   },
   "outputs": [],
   "source": [
    "# blured_train_images = gaussianBlur(reduced_train_images)"
   ]
  },
  {
   "cell_type": "code",
   "execution_count": 137,
   "metadata": {
    "collapsed": false
   },
   "outputs": [
    {
     "data": {
      "text/plain": [
       "\"\\nfor i in range(20):\\n    plt.subplot(2,10,i+1)\\n    plt.imshow(blured_train_images[i], cmap='Greys_r')\\n    plt.axis('off')\\nplt.show()\\nprint('label: %s' % (train_lbl[0:10],))\\nprint('label: %s' % (train_lbl[10:20],))\\n\""
      ]
     },
     "execution_count": 137,
     "metadata": {},
     "output_type": "execute_result"
    }
   ],
   "source": [
    "'''\n",
    "for i in range(20):\n",
    "    plt.subplot(2,10,i+1)\n",
    "    plt.imshow(blured_train_images[i], cmap='Greys_r')\n",
    "    plt.axis('off')\n",
    "plt.show()\n",
    "print('label: %s' % (train_lbl[0:10],))\n",
    "print('label: %s' % (train_lbl[10:20],))\n",
    "'''"
   ]
  },
  {
   "cell_type": "code",
   "execution_count": 138,
   "metadata": {
    "collapsed": false
   },
   "outputs": [],
   "source": [
    "# blured_train_images[18]"
   ]
  },
  {
   "cell_type": "code",
   "execution_count": 139,
   "metadata": {
    "collapsed": false
   },
   "outputs": [],
   "source": [
    "# blured_train_images[18]"
   ]
  },
  {
   "cell_type": "code",
   "execution_count": 140,
   "metadata": {
    "collapsed": true
   },
   "outputs": [],
   "source": [
    "#Convert the list of images to array of images\n",
    "# train_image_array = np.asarray(blured_train_images)\n",
    "#test_image_array = np.asarray(test_deskew_images)"
   ]
  },
  {
   "cell_type": "code",
   "execution_count": 141,
   "metadata": {
    "collapsed": false
   },
   "outputs": [],
   "source": [
    "#To implement binary threshold of 0 and 255 for both train and test image\n",
    "# ret,threshold_train = cv2.threshold(train_image_array,127,255,cv2.THRESH_BINARY)\n",
    "#ret1,threshold_test = cv2.threshold(test_image_array,127,255,cv2.THRESH_BINARY)"
   ]
  },
  {
   "cell_type": "code",
   "execution_count": 142,
   "metadata": {
    "collapsed": false
   },
   "outputs": [
    {
     "data": {
      "text/plain": [
       "\"\\nfor i in range(20):\\n    plt.subplot(2,10,i+1)\\n    plt.imshow(threshold_train[i], cmap='Greys_r')\\n    plt.axis('off')\\nplt.show()\\nprint('label: %s' % (train_lbl[0:10],))\\nprint('label: %s' % (train_lbl[10:20],))\\n\""
      ]
     },
     "execution_count": 142,
     "metadata": {},
     "output_type": "execute_result"
    }
   ],
   "source": [
    "'''\n",
    "for i in range(20):\n",
    "    plt.subplot(2,10,i+1)\n",
    "    plt.imshow(threshold_train[i], cmap='Greys_r')\n",
    "    plt.axis('off')\n",
    "plt.show()\n",
    "print('label: %s' % (train_lbl[0:10],))\n",
    "print('label: %s' % (train_lbl[10:20],))\n",
    "'''"
   ]
  },
  {
   "cell_type": "code",
   "execution_count": 144,
   "metadata": {
    "collapsed": false
   },
   "outputs": [],
   "source": [
    "# threshold_train[18]"
   ]
  },
  {
   "cell_type": "code",
   "execution_count": 145,
   "metadata": {
    "collapsed": false
   },
   "outputs": [
    {
     "data": {
      "text/plain": [
       "\"\\nfor i in range(20):\\n    plt.subplot(2,10,i+1)\\n    plt.imshow(threshold_train[i], cmap='Greys_r')\\n    plt.axis('off')\\nplt.show()\\nprint('label: %s' % (train_lbl[0:10],))\\nprint('label: %s' % (train_lbl[10:20],))\\n\""
      ]
     },
     "execution_count": 145,
     "metadata": {},
     "output_type": "execute_result"
    }
   ],
   "source": [
    "'''\n",
    "for i in range(20):\n",
    "    plt.subplot(2,10,i+1)\n",
    "    plt.imshow(threshold_train[i], cmap='Greys_r')\n",
    "    plt.axis('off')\n",
    "plt.show()\n",
    "print('label: %s' % (train_lbl[0:10],))\n",
    "print('label: %s' % (train_lbl[10:20],))\n",
    "'''"
   ]
  },
  {
   "cell_type": "code",
   "execution_count": null,
   "metadata": {
    "collapsed": true
   },
   "outputs": [],
   "source": []
  },
  {
   "cell_type": "code",
   "execution_count": null,
   "metadata": {
    "collapsed": false
   },
   "outputs": [],
   "source": []
  },
  {
   "cell_type": "code",
   "execution_count": 146,
   "metadata": {
    "collapsed": true
   },
   "outputs": [],
   "source": [
    "# sobelx = cv2.Sobel(blured_train_images[0],cv2.CV_64F,1,0,ksize=5)"
   ]
  },
  {
   "cell_type": "code",
   "execution_count": 147,
   "metadata": {
    "collapsed": false
   },
   "outputs": [],
   "source": [
    "# plt.imshow(sobelx, cmap='Greys_r')\n",
    "# plt.show()"
   ]
  },
  {
   "cell_type": "code",
   "execution_count": 148,
   "metadata": {
    "collapsed": false
   },
   "outputs": [],
   "source": [
    "# blured_train_images[0]"
   ]
  },
  {
   "cell_type": "code",
   "execution_count": null,
   "metadata": {
    "collapsed": true
   },
   "outputs": [],
   "source": []
  },
  {
   "cell_type": "code",
   "execution_count": null,
   "metadata": {
    "collapsed": true
   },
   "outputs": [],
   "source": []
  },
  {
   "cell_type": "code",
   "execution_count": null,
   "metadata": {
    "collapsed": false
   },
   "outputs": [],
   "source": []
  },
  {
   "cell_type": "code",
   "execution_count": null,
   "metadata": {
    "collapsed": true
   },
   "outputs": [],
   "source": []
  },
  {
   "cell_type": "code",
   "execution_count": null,
   "metadata": {
    "collapsed": true
   },
   "outputs": [],
   "source": []
  },
  {
   "cell_type": "code",
   "execution_count": 149,
   "metadata": {
    "collapsed": true
   },
   "outputs": [],
   "source": [
    "# from skimage.feature import hog"
   ]
  },
  {
   "cell_type": "code",
   "execution_count": 150,
   "metadata": {
    "collapsed": false
   },
   "outputs": [
    {
     "data": {
      "text/plain": [
       "\"\\ntrain_hog_image = []\\nfor image in train_deskew_images:\\n    fd = hog(image.reshape((28, 28)) , orientations=9, pixels_per_cell=(14, 14), cells_per_block=(1, 1), visualise=False)\\n    train_hog_image.append(fd)\\ntrain_hog_features = np.array(train_hog_image, 'float64')\\n\""
      ]
     },
     "execution_count": 150,
     "metadata": {},
     "output_type": "execute_result"
    }
   ],
   "source": [
    "'''\n",
    "train_hog_image = []\n",
    "for image in train_deskew_images:\n",
    "    fd = hog(image.reshape((28, 28)) , orientations=9, pixels_per_cell=(14, 14), cells_per_block=(1, 1), visualise=False)\n",
    "    train_hog_image.append(fd)\n",
    "train_hog_features = np.array(train_hog_image, 'float64')\n",
    "'''"
   ]
  },
  {
   "cell_type": "code",
   "execution_count": 151,
   "metadata": {
    "collapsed": false
   },
   "outputs": [],
   "source": [
    "\n",
    "# print(train_hog_features[0])"
   ]
  },
  {
   "cell_type": "code",
   "execution_count": 152,
   "metadata": {
    "collapsed": false
   },
   "outputs": [
    {
     "data": {
      "text/plain": [
       "\"\\nfor i in range(10):\\n    plt.subplot(1,10,i+1)\\n    plt.imshow(train_hog_image[i], cmap='Greys_r')\\n    plt.axis('off')\\nplt.show()\\nprint('label: %s' % (train_lbl[0:10],))\\n\""
      ]
     },
     "execution_count": 152,
     "metadata": {},
     "output_type": "execute_result"
    }
   ],
   "source": [
    "'''\n",
    "for i in range(10):\n",
    "    plt.subplot(1,10,i+1)\n",
    "    plt.imshow(train_hog_image[i], cmap='Greys_r')\n",
    "    plt.axis('off')\n",
    "plt.show()\n",
    "print('label: %s' % (train_lbl[0:10],))\n",
    "'''"
   ]
  },
  {
   "cell_type": "code",
   "execution_count": null,
   "metadata": {
    "collapsed": true
   },
   "outputs": [],
   "source": []
  },
  {
   "cell_type": "code",
   "execution_count": null,
   "metadata": {
    "collapsed": true
   },
   "outputs": [],
   "source": []
  },
  {
   "cell_type": "code",
   "execution_count": null,
   "metadata": {
    "collapsed": true
   },
   "outputs": [],
   "source": []
  }
 ],
 "metadata": {
  "kernelspec": {
   "display_name": "Python 3",
   "language": "python",
   "name": "python3"
  },
  "language_info": {
   "codemirror_mode": {
    "name": "ipython",
    "version": 3
   },
   "file_extension": ".py",
   "mimetype": "text/x-python",
   "name": "python",
   "nbconvert_exporter": "python",
   "pygments_lexer": "ipython3",
   "version": "3.6.0"
  }
 },
 "nbformat": 4,
 "nbformat_minor": 2
}
